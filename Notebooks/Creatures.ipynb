{
 "cells": [
  {
   "cell_type": "code",
   "execution_count": 1,
   "metadata": {
    "collapsed": true
   },
   "outputs": [],
   "source": [
    "from enum import Enum\n",
    "import random\n",
    "import skills"
   ]
  },
  {
   "cell_type": "code",
   "execution_count": 97,
   "metadata": {
    "collapsed": true
   },
   "outputs": [],
   "source": [
    "class Pool:\n",
    "    def __init__(self, maximum=0, edge=0):\n",
    "        self.max = maximum\n",
    "        self.current = maximum\n",
    "        self.edge = edge\n",
    "    def __repr__(self):\n",
    "        return \"{}/{}\".format(self.current, self.max)\n",
    "    def reduce(self, amount):\n",
    "        if(self.current > 0):\n",
    "            difference = (self.current - amount)\n",
    "            if(difference >= 0):\n",
    "                self.current -= amount\n",
    "                return 0\n",
    "            else:\n",
    "                self.current = 0\n",
    "                return difference\n",
    "            #self.current -= amount\n",
    "            #self.current = max(self.current, 0)\n",
    "            #return self.current\n",
    "        else:\n",
    "            return amount\n",
    "    def increase(self, amount):\n",
    "        if(self.current < self.max):\n",
    "            self.current += amount\n",
    "            self.current = min(self.current, self.max)\n",
    "    def effort(self, num):\n",
    "        spent = (num*3) - self.edge\n",
    "        if(spent <= self.current):\n",
    "            self.reduce(spent)\n",
    "            return True\n",
    "        else:\n",
    "            print(\"Not enough to spend {} effort.\\nCurrent: {}\\nRequired: {}\".format(num, self.current, spent))\n",
    "            return False"
   ]
  },
  {
   "cell_type": "code",
   "execution_count": 2,
   "metadata": {
    "collapsed": true
   },
   "outputs": [],
   "source": [
    "class Stat(Enum):\n",
    "    Might = 0\n",
    "    Speed = 1\n",
    "    Intellect = 2"
   ]
  },
  {
   "cell_type": "markdown",
   "metadata": {
    "collapsed": true
   },
   "source": [
    "# Skills List\n",
    "\n",
    "* Performance\n",
    "* Bluff\n",
    "* Insight\n",
    "* Diplomacy\n",
    "* Athletics: Might\n",
    "* Athletics: Speed\n",
    "* Perception\n",
    "* Healing\n",
    "* Survival\n",
    "* Stealth\n",
    "* Investigation\n",
    "\n",
    "\n",
    "\n",
    "* Might Attack\n",
    "* Speed Attack (Ranged)\n",
    "* Speed Attack (Melee)\n",
    "* Intellect Attack\n",
    "* Might Defense\n",
    "* Speed Defense\n",
    "* Intellect Defense\n",
    "* Initiative\n",
    "\n",
    "\n",
    "* Numenera/Magic/Occult\n",
    "* Craft: _"
   ]
  },
  {
   "cell_type": "markdown",
   "metadata": {},
   "source": [
    "**Social**\n",
    "\n",
    "* Perform: Stat.Intellect\n",
    "\n",
    "* Bluff: Stat.Intellect\n",
    "\n",
    "* Insight: Stat.Intellect\n",
    "\n",
    "* Diplomacy: Stat.Intellect\n",
    "\n",
    "\n",
    "\n",
    "**Adventuring**\n",
    "\n",
    "* Athletics: Stat.Might\n",
    "\n",
    "* Acrobatics: Stat.Speed\n",
    "\n",
    "* Perception: Stat.Intellect\n",
    "\n",
    "* Healing: Stat.Intellect\n",
    "\n",
    "* Survival: Stat.Intellect\n",
    "\n",
    "* Stealth: Stat.Speed\n",
    "\n",
    "* Investigation: Stat.Intellect\n",
    "\n",
    "* Thievery: Stat.Speed\n",
    "\n",
    "\n",
    "\n",
    "**Numenera**\n",
    "\n",
    "* Mechanical: Stat.Intellect\n",
    "\n",
    "* Biological: Stat.Intellect\n",
    "\n",
    "* Crystalline: Stat.Intellect\n",
    "\n",
    "* Energy: Stat.Intellect\n",
    "\n",
    "* Psychic: Stat.Intellect\n",
    "\n",
    "* Psychic: Stat.Intellect\n",
    "\n",
    "\n",
    "\n",
    "**Crafting**\n",
    "\n",
    "* Weapons: Stat.Intellect\n",
    "\n",
    "* Armor: Stat.Intellect\n",
    "\n",
    "* Devices: Stat.Intellect\n",
    "\n",
    "* Tools: Stat.Intellect\n",
    "\n",
    "* Consumables: Stat.Intellect\n",
    "\n",
    "* Breeding: Stat.Intellect\n",
    "\n",
    "* Animal Raising: Stat.Intellect\n",
    "\n",
    "\n",
    "\n",
    "**Combat**\n",
    "\n",
    "* Attack: Stat.Might\n",
    "\n",
    "* Attack: Stat.Speed\n",
    "\n",
    "* Attack: Stat.Intellect\n",
    "\n",
    "* Defense: Stat.Might\n",
    "\n",
    "* Defense: Stat.Speed\n",
    "\n",
    "* Defense: Stat.Intellect\n",
    "\n",
    "* Initiative: Stat.Speed\n",
    "\n",
    "* Light Weapons: Stat.Speed\n",
    "\n",
    "* Medium Weapons: Stat.Might\n",
    "\n",
    "* Heavy Weapons: Stat.Might"
   ]
  },
  {
   "cell_type": "code",
   "execution_count": 135,
   "metadata": {
    "collapsed": false
   },
   "outputs": [],
   "source": [
    "class Character:\n",
    "    def __init__(self, name='', \n",
    "                 might=0, \n",
    "                 speed=0, \n",
    "                 intellect=0, \n",
    "                 mightEdge=0, \n",
    "                 speedEdge=0, \n",
    "                 intellectEdge=0,\n",
    "                 inputSkills = []):\n",
    "        self.name = name\n",
    "        self.might = Pool(might, mightEdge)\n",
    "        self.speed = Pool(speed, speedEdge)\n",
    "        self.intellect = Pool(intellect, intellectEdge)\n",
    "        self.adventureSkills = []\n",
    "        self.combatSkills = []\n",
    "        self.craftingSkills = []\n",
    "        self.numeneraSkills = []\n",
    "        self.socialSkills = []\n",
    "        for skill in inputSkills:\n",
    "            if(skills.isSkill(skill)):\n",
    "                if(skills.isAdventuringSkill(skill)):\n",
    "                    self.adventureSkills.append(skill)\n",
    "                elif(skills.isCombatSkill(skill)):\n",
    "                    self.combatSkills.append(skill)\n",
    "                elif(skills.isCraftingSkill(skill)):\n",
    "                    self.craftingSkills.append(skill)\n",
    "                elif(skills.isNumeneraSkill(skill)):\n",
    "                    self.numeneraSkills.append(skill)\n",
    "                elif(skills.isSocialSkill(skill)):\n",
    "                    self.socialSkills.append(skill)\n",
    "        self.skills = self.adventureSkills + \\\n",
    "                      self.combatSkills + \\\n",
    "                      self.craftingSkills + \\\n",
    "                      self.numeneraSkills + \\\n",
    "                      self.socialSkills\n",
    "    def roll(self):\n",
    "        return random.randint(1,20)\n",
    "    def Challenge(self, level=0, skills=[], stat=Stat.Might, effort=0, assets=0):\n",
    "        skillCounter = 0\n",
    "        for skill in skills:\n",
    "            if skill in self.skills:\n",
    "                skillCounter += 1\n",
    "        if(self.Effort(stat, effort)):\n",
    "            target = (level - skillCounter - effort - assets)*3\n",
    "        else:\n",
    "            target = (level - skillCounter - assets)*3\n",
    "        print('Target number: {}'.format(target))\n",
    "        if(target <= 0):\n",
    "            return True\n",
    "        else:\n",
    "            roll = self.roll()\n",
    "            print('{} rolled {}.'.format(self.name, roll))\n",
    "            return roll >= target\n",
    "    def Effort(self, stat=Stat.Might, num=1):\n",
    "        if(stat == Stat.Might):\n",
    "            return self.might.effort(num)\n",
    "        elif(stat == Stat.Speed):\n",
    "            return self.speed.effort(num)\n",
    "        elif(stat == Stat.Intellect):\n",
    "            return self.intellect.effort(num)\n",
    "    def __repr__(self):\n",
    "        adventuring = 'ADVENTURING SKILLS:\\n' + '\\n'.join(self.adventureSkills) + '\\n'\n",
    "        combat = '\\nCOMBAT SKILLS:\\n' + '\\n'.join(self.combatSkills) + '\\n'\n",
    "        crafting = '\\nCRAFTING SKILLS:\\n' + '\\n'.join(self.craftingSkills) + '\\n'\n",
    "        numenera = '\\nNUMENERA SKILLS:\\n' + '\\n'.join(self.numeneraSkills) + '\\n'\n",
    "        social = '\\nSOCIAL SKILLS:\\n' + '\\n'.join(self.socialSkills) + '\\n'\n",
    "        skills = '\\n' + adventuring + combat + crafting + numenera + social\n",
    "        return \"Name: {}\\nMight: {}\\nSpeed: {}\\nIntellect: {}\\nSkills: {}\".format(self.name, self.might, self.speed, self.intellect, skills)"
   ]
  },
  {
   "cell_type": "code",
   "execution_count": 99,
   "metadata": {
    "collapsed": false,
    "scrolled": false
   },
   "outputs": [
    {
     "data": {
      "text/plain": [
       "Name: Theron\n",
       "Might: 18/18\n",
       "Speed: 12/12\n",
       "Intellect: 8/8\n",
       "Skills: \n",
       "ADVENTURING SKILLS:\n",
       "Athletics\n",
       "\n",
       "COMBAT SKILLS:\n",
       "Might Defense\n",
       "Might Attack\n",
       "Speed Attack\n",
       "Heavy Weapons\n",
       "\n",
       "CRAFTING SKILLS:\n",
       "\n",
       "\n",
       "NUMENERA SKILLS:\n",
       "\n",
       "\n",
       "SOCIAL SKILLS:\n"
      ]
     },
     "execution_count": 99,
     "metadata": {},
     "output_type": "execute_result"
    }
   ],
   "source": [
    "theron = Character('Theron', 18, 12, 8, 1, 1, 0, ['Might Defense', 'Might Attack', 'Speed Attack', 'Athletics', 'Heavy Weapons'])\n",
    "theron"
   ]
  },
  {
   "cell_type": "code",
   "execution_count": 136,
   "metadata": {
    "collapsed": false
   },
   "outputs": [
    {
     "data": {
      "text/plain": [
       "Name: Subotai\n",
       "Might: 14/14\n",
       "Speed: 22/22\n",
       "Intellect: 12/12\n",
       "Skills: \n",
       "ADVENTURING SKILLS:\n",
       "Stealth\n",
       "Acrobatics\n",
       "\n",
       "COMBAT SKILLS:\n",
       "Initiative\n",
       "Speed Defense\n",
       "Light Weapons\n",
       "\n",
       "CRAFTING SKILLS:\n",
       "\n",
       "\n",
       "NUMENERA SKILLS:\n",
       "\n",
       "\n",
       "SOCIAL SKILLS:\n",
       "Bluff"
      ]
     },
     "execution_count": 136,
     "metadata": {},
     "output_type": "execute_result"
    }
   ],
   "source": [
    "subotai = Character('Subotai', 14, 22, 12, 0, 3, 1, ['Stealth', 'Initiative', 'Acrobatics', 'Speed Defense', 'Light Weapons', 'Numenera', 'Bluff'])\n",
    "subotai"
   ]
  },
  {
   "cell_type": "code",
   "execution_count": 94,
   "metadata": {
    "collapsed": false
   },
   "outputs": [
    {
     "data": {
      "text/plain": [
       "Attack: Stat.Speed"
      ]
     },
     "execution_count": 94,
     "metadata": {},
     "output_type": "execute_result"
    }
   ],
   "source": [
    "skills.skills['Speed Attack']"
   ]
  },
  {
   "cell_type": "code",
   "execution_count": 176,
   "metadata": {
    "collapsed": false
   },
   "outputs": [
    {
     "name": "stdout",
     "output_type": "stream",
     "text": [
      "Not enough to spend 2 effort.\n",
      "Current: 1\n",
      "Required: 3\n",
      "Target number: 24\n",
      "Subotai rolled 1.\n"
     ]
    },
    {
     "data": {
      "text/plain": [
       "False"
      ]
     },
     "execution_count": 176,
     "metadata": {},
     "output_type": "execute_result"
    }
   ],
   "source": [
    "subotai.Challenge(10, ['Speed Attack', 'Light Weapons', 'Stealth', 'Perception'], Stat.Speed, 2, 0)"
   ]
  },
  {
   "cell_type": "code",
   "execution_count": 118,
   "metadata": {
    "collapsed": false
   },
   "outputs": [
    {
     "data": {
      "text/plain": [
       "Name: Subotai\n",
       "Might: 14/14\n",
       "Speed: 1/22\n",
       "Intellect: 12/12\n",
       "Skills: \n",
       "ADVENTURING SKILLS:\n",
       "Stealth\n",
       "Acrobatics\n",
       "\n",
       "COMBAT SKILLS:\n",
       "Initiative\n",
       "Speed Defense\n",
       "Light Weapons\n",
       "\n",
       "CRAFTING SKILLS:\n",
       "\n",
       "\n",
       "NUMENERA SKILLS:\n",
       "\n",
       "\n",
       "SOCIAL SKILLS:\n",
       "Bluff"
      ]
     },
     "execution_count": 118,
     "metadata": {},
     "output_type": "execute_result"
    }
   ],
   "source": [
    "subotai"
   ]
  },
  {
   "cell_type": "code",
   "execution_count": null,
   "metadata": {
    "collapsed": true
   },
   "outputs": [],
   "source": []
  },
  {
   "cell_type": "code",
   "execution_count": 31,
   "metadata": {
    "collapsed": false
   },
   "outputs": [
    {
     "name": "stdout",
     "output_type": "stream",
     "text": [
      "Perception False\n"
     ]
    },
    {
     "data": {
      "text/plain": [
       "False"
      ]
     },
     "execution_count": 31,
     "metadata": {},
     "output_type": "execute_result"
    }
   ],
   "source": [
    "Skills.isSkill('Perception')"
   ]
  },
  {
   "cell_type": "code",
   "execution_count": 20,
   "metadata": {
    "collapsed": true
   },
   "outputs": [],
   "source": [
    "skillsList = [skills, numeneraSkills, craftingSkills, combatSkills]"
   ]
  },
  {
   "cell_type": "code",
   "execution_count": 21,
   "metadata": {
    "collapsed": false
   },
   "outputs": [
    {
     "data": {
      "text/plain": [
       "[{'Acrobatics': Acrobatics: Stat.Speed,\n",
       "  'Athletics': Athletics: Stat.Might,\n",
       "  'Bluff': Bluff: Stat.Intellect,\n",
       "  'Diplomacy': Diplomacy: Stat.Intellect,\n",
       "  'Healing': Healing: Stat.Intellect,\n",
       "  'Insight': Insight: Stat.Intellect,\n",
       "  'Investigation': Investigation: Stat.Intellect,\n",
       "  'Perception': Perception: Stat.Intellect,\n",
       "  'Perform': Perform: Stat.Intellect,\n",
       "  'Stealth': Stealth: Stat.Speed,\n",
       "  'Survival': Survival: Stat.Intellect},\n",
       " {'Biological': Biological: Stat.Intellect,\n",
       "  'Crystalline': Crystalline: Stat.Intellect,\n",
       "  'Energy': Energy: Stat.Intellect,\n",
       "  'Mechanical': Mechanical: Stat.Intellect,\n",
       "  'Psychic': Psychic: Stat.Intellect,\n",
       "  'Temporal': Psychic: Stat.Intellect},\n",
       " {'Armor': Armor: Stat.Intellect,\n",
       "  'Consumables': Consumables: Stat.Intellect,\n",
       "  'Devices': Devices: Stat.Intellect,\n",
       "  'Tools': Tools: Stat.Intellect,\n",
       "  'Weapons': Weapons: Stat.Intellect},\n",
       " {'Initiative': Initiative: Stat.Speed,\n",
       "  'Intellect Attack': Attack: Stat.Intellect,\n",
       "  'Intellect Defense': Defense: Stat.Intellect,\n",
       "  'Might Attack': Attack: Stat.Might,\n",
       "  'Might Defense': Defense: Stat.Might,\n",
       "  'Speed Attack': Attack: Stat.Speed,\n",
       "  'Speed Defense': Defense: Stat.Speed}]"
      ]
     },
     "execution_count": 21,
     "metadata": {},
     "output_type": "execute_result"
    }
   ],
   "source": [
    "skillsList"
   ]
  },
  {
   "cell_type": "code",
   "execution_count": 9,
   "metadata": {
    "collapsed": false
   },
   "outputs": [
    {
     "data": {
      "text/plain": [
       "Name: foo\n",
       "Might: 16/16\n",
       "Speed: 10/10\n",
       "Intellect: 8/8"
      ]
     },
     "execution_count": 9,
     "metadata": {},
     "output_type": "execute_result"
    }
   ],
   "source": [
    "Character('foo', 16, 10, 8)"
   ]
  },
  {
   "cell_type": "code",
   "execution_count": 4,
   "metadata": {
    "collapsed": true
   },
   "outputs": [],
   "source": [
    "class Monster:\n",
    "    def __init__(self, name='', level=0, hp=0, armor=0, attacks={'Might': 0, 'Speed': 0, 'Intellect': 0}, defenses={'Might': 0, 'Speed': 0, 'Intellect': 0}):\n",
    "        self.name = name\n",
    "        self.level = level\n",
    "        self.hp = hp\n",
    "        self.armor = armor\n",
    "        self.attacks = attacks\n",
    "    def Attack(self, target, stat):\n",
    "        attackLevel = self.level+self.attacks[stat]\n",
    "        target.Defend(attackLevel, stat)"
   ]
  },
  {
   "cell_type": "code",
   "execution_count": null,
   "metadata": {
    "collapsed": true
   },
   "outputs": [],
   "source": [
    "class Creature:\n",
    "    "
   ]
  }
 ],
 "metadata": {
  "anaconda-cloud": {},
  "kernelspec": {
   "display_name": "Python [py3]",
   "language": "python",
   "name": "Python [py3]"
  },
  "language_info": {
   "codemirror_mode": {
    "name": "ipython",
    "version": 3
   },
   "file_extension": ".py",
   "mimetype": "text/x-python",
   "name": "python",
   "nbconvert_exporter": "python",
   "pygments_lexer": "ipython3",
   "version": "3.6.2"
  }
 },
 "nbformat": 4,
 "nbformat_minor": 2
}
