{
 "cells": [
  {
   "cell_type": "code",
   "execution_count": 2,
   "metadata": {
    "collapsed": true
   },
   "outputs": [],
   "source": [
    "from enum import Enum\n",
    "import random"
   ]
  },
  {
   "cell_type": "code",
   "execution_count": 3,
   "metadata": {
    "collapsed": true
   },
   "outputs": [],
   "source": [
    "class Pool:\n",
    "    def __init__(self, maximum=0, edge=0):\n",
    "        self.max = maximum\n",
    "        self.current = maximum\n",
    "    def __repr__(self):\n",
    "        return \"{}/{}\".format(self.current, self.max)\n",
    "    def reduce(self, amount):\n",
    "        if(self.current > 0):\n",
    "            self.current -= amount\n",
    "            self.current = max(self.current, 0)\n",
    "            return self.current\n",
    "        else:\n",
    "            return 0\n",
    "    def increase(self, amount):\n",
    "        if(self.current < self.max):\n",
    "            self.current += amount\n",
    "            self.current = min(self.current, self.max)\n",
    "    def effort(self, num):\n",
    "        spent = (num*3) - self.edge\n",
    "        if(spent <= self.current):\n",
    "            self.reduce(spent)\n",
    "        else:\n",
    "            return \"Not enough to spend {} effort.\\nCurrent: {}\\nRequired: {}\".format(num, self.current, spent)"
   ]
  },
  {
   "cell_type": "code",
   "execution_count": 4,
   "metadata": {
    "collapsed": true
   },
   "outputs": [],
   "source": [
    "class Stat(Enum):\n",
    "    Might = 0\n",
    "    Speed = 1\n",
    "    Intellect = 2"
   ]
  },
  {
   "cell_type": "code",
   "execution_count": 5,
   "metadata": {
    "collapsed": true
   },
   "outputs": [],
   "source": [
    "class Character:\n",
    "    def __init__(self, name='', might=0, speed=0, intellect=0, mightEdge=0, speedEdge=0, intellectEdge=0):\n",
    "        self.name = name\n",
    "        self.might = Pool(might, mightEdge)\n",
    "        self.speed = Pool(speed, speedEdge)\n",
    "        self.intellect = Pool(intellect, intellectEdge)\n",
    "    def roll(self, trained=False, specialized=False):\n",
    "        roll = random.randint(1,20)\n",
    "        if(specialized):\n",
    "            roll += 6\n",
    "        elif(trained):\n",
    "            roll += 3\n",
    "        return roll\n",
    "    def __repr__(self):\n",
    "        return \"Name: {}\\nMight: {}\\nSpeed: {}\\nIntellect: {}\".format(self.name, self.might, self.speed, self.intellect)"
   ]
  },
  {
   "cell_type": "markdown",
   "metadata": {
    "collapsed": true
   },
   "source": [
    "# Skills List\n",
    "\n",
    "* Performance\n",
    "* Bluff\n",
    "* Insight\n",
    "* Diplomacy\n",
    "* Athletics: Might\n",
    "* Athletics: Speed\n",
    "* Perception\n",
    "* Healing\n",
    "* Survival\n",
    "* Stealth\n",
    "* Investigation\n",
    "\n",
    "\n",
    "\n",
    "* Might Attack\n",
    "* Speed Attack (Ranged)\n",
    "* Speed Attack (Melee)\n",
    "* Intellect Attack\n",
    "* Might Defense\n",
    "* Speed Defense\n",
    "* Intellect Defense\n",
    "* Initiative\n",
    "\n",
    "\n",
    "* Numenera/Magic/Occult\n",
    "* Craft: _"
   ]
  },
  {
   "cell_type": "code",
   "execution_count": 6,
   "metadata": {
    "collapsed": true
   },
   "outputs": [],
   "source": [
    "class Skill:\n",
    "    def __init__(self, name='', stat=0):\n",
    "        self.name = name\n",
    "        self.stat = Stat(stat)\n",
    "    def __repr__(self):\n",
    "        return \"{}: {}\".format(self.name, self.stat)"
   ]
  },
  {
   "cell_type": "code",
   "execution_count": 8,
   "metadata": {},
   "outputs": [],
   "source": [
    "socialSkills = {'Rapport': Skill('Rapport', Stat.Intellect),\n",
    "                'Bluff': Skill('Bluff', Stat.Intellect)\n",
    "                }"
   ]
  },
  {
   "cell_type": "code",
   "execution_count": 10,
   "metadata": {
    "collapsed": true
   },
   "outputs": [],
   "source": [
    "adventuringSkills = { 'Athletics': Skill('Athletics', Stat.Might),\n",
    "                      'Acrobatics': Skill('Acrobatics', Stat.Speed),\n",
    "                      'Perception': Skill('Perception', Stat.Intellect),\n",
    "                      'Nature': Skill('Healing', Stat.Intellect),\n",
    "                      'Stealth': Skill('Stealth', Stat.Speed),\n",
    "                      'Investigation': Skill('Investigation', Stat.Intellect),\n",
    "                      'Thievery': Skill('Thievery', Stat.Speed)\n",
    "}"
   ]
  },
  {
   "cell_type": "code",
   "execution_count": 11,
   "metadata": {
    "collapsed": true
   },
   "outputs": [],
   "source": [
    "numeneraSkills = {'Mechanical': Skill('Mechanical', Stat.Intellect),\n",
    "                  'Biological': Skill('Biological', Stat.Intellect),\n",
    "                  'Crystalline': Skill('Crystalline', Stat.Intellect),\n",
    "                  'Energy': Skill('Energy', Stat.Intellect),\n",
    "                  'Psychic': Skill('Psychic', Stat.Intellect),\n",
    "                  'Temporal': Skill('Psychic', Stat.Intellect) }"
   ]
  },
  {
   "cell_type": "code",
   "execution_count": 12,
   "metadata": {
    "collapsed": true
   },
   "outputs": [],
   "source": [
    "craftingSkills = {'Weapons': Skill('Weapons', Stat.Intellect),\n",
    "                  'Armor': Skill('Armor', Stat.Intellect),\n",
    "                  'Devices': Skill('Devices', Stat.Intellect),\n",
    "                  'Tools': Skill('Tools', Stat.Intellect),\n",
    "                  'Consumables': Skill('Consumables', Stat.Intellect),\n",
    "                  'Breeding': Skill('Breeding', Stat.Intellect),\n",
    "                  'Animal Raising': Skill('Animal Raising', Stat.Intellect)}"
   ]
  },
  {
   "cell_type": "code",
   "execution_count": 13,
   "metadata": {
    "collapsed": true
   },
   "outputs": [],
   "source": [
    "combatSkills = {'Might Attack': Skill('Attack', Stat.Might),\n",
    "                'Speed Attack': Skill('Attack', Stat.Speed),\n",
    "                'Intellect Attack': Skill('Attack', Stat.Intellect),\n",
    "                'Might Defense': Skill('Defense', Stat.Might),\n",
    "                'Speed Defense': Skill('Defense', Stat.Speed),\n",
    "                'Intellect Defense': Skill('Defense', Stat.Intellect),\n",
    "                'Initiative': Skill('Initiative', Stat.Speed),\n",
    "                'Light Weapons': Skill('Light Weapons', Stat.Speed),\n",
    "                'Medium Weapons': Skill('Medium Weapons', Stat.Might),\n",
    "                'Heavy Weapons': Skill('Heavy Weapons', Stat.Might)}"
   ]
  },
  {
   "cell_type": "code",
   "execution_count": 14,
   "metadata": {
    "collapsed": true
   },
   "outputs": [],
   "source": [
    "skills = {\"Social\" : socialSkills,\n",
    "          \"Adventuring\" : adventuringSkills,\n",
    "          \"Numenera\": numeneraSkills,\n",
    "          \"Crafting\" : craftingSkills,\n",
    "          \"Combat\" : combatSkills}"
   ]
  },
  {
   "cell_type": "code",
   "execution_count": 15,
   "metadata": {},
   "outputs": [
    {
     "name": "stdout",
     "output_type": "stream",
     "text": [
      "**Social**\n",
      "\n",
      "* Rapport: Stat.Intellect\n",
      "\n",
      "* Bluff: Stat.Intellect\n",
      "\n",
      "\n",
      "\n",
      "**Adventuring**\n",
      "\n",
      "* Athletics: Stat.Might\n",
      "\n",
      "* Acrobatics: Stat.Speed\n",
      "\n",
      "* Perception: Stat.Intellect\n",
      "\n",
      "* Healing: Stat.Intellect\n",
      "\n",
      "* Stealth: Stat.Speed\n",
      "\n",
      "* Investigation: Stat.Intellect\n",
      "\n",
      "* Thievery: Stat.Speed\n",
      "\n",
      "\n",
      "\n",
      "**Numenera**\n",
      "\n",
      "* Mechanical: Stat.Intellect\n",
      "\n",
      "* Biological: Stat.Intellect\n",
      "\n",
      "* Crystalline: Stat.Intellect\n",
      "\n",
      "* Energy: Stat.Intellect\n",
      "\n",
      "* Psychic: Stat.Intellect\n",
      "\n",
      "* Psychic: Stat.Intellect\n",
      "\n",
      "\n",
      "\n",
      "**Crafting**\n",
      "\n",
      "* Weapons: Stat.Intellect\n",
      "\n",
      "* Armor: Stat.Intellect\n",
      "\n",
      "* Devices: Stat.Intellect\n",
      "\n",
      "* Tools: Stat.Intellect\n",
      "\n",
      "* Consumables: Stat.Intellect\n",
      "\n",
      "* Breeding: Stat.Intellect\n",
      "\n",
      "* Animal Raising: Stat.Intellect\n",
      "\n",
      "\n",
      "\n",
      "**Combat**\n",
      "\n",
      "* Attack: Stat.Might\n",
      "\n",
      "* Attack: Stat.Speed\n",
      "\n",
      "* Attack: Stat.Intellect\n",
      "\n",
      "* Defense: Stat.Might\n",
      "\n",
      "* Defense: Stat.Speed\n",
      "\n",
      "* Defense: Stat.Intellect\n",
      "\n",
      "* Initiative: Stat.Speed\n",
      "\n",
      "* Light Weapons: Stat.Speed\n",
      "\n",
      "* Medium Weapons: Stat.Might\n",
      "\n",
      "* Heavy Weapons: Stat.Might\n",
      "\n",
      "\n",
      "\n"
     ]
    }
   ],
   "source": [
    "for group in skills:\n",
    "    print('**{}**\\n'.format(group))\n",
    "    for skill in skills[group]:\n",
    "        print('* {}\\n'.format(skills[group][skill])) \n",
    "    print('\\n')"
   ]
  },
  {
   "cell_type": "markdown",
   "metadata": {},
   "source": [
    "**Social**\n",
    "\n",
    "* Perform: Stat.Intellect\n",
    "\n",
    "* Bluff: Stat.Intellect\n",
    "\n",
    "* Insight: Stat.Intellect\n",
    "\n",
    "* Diplomacy: Stat.Intellect\n",
    "\n",
    "\n",
    "\n",
    "**Adventuring**\n",
    "\n",
    "* Athletics: Stat.Might\n",
    "\n",
    "* Acrobatics: Stat.Speed\n",
    "\n",
    "* Perception: Stat.Intellect\n",
    "\n",
    "* Healing: Stat.Intellect\n",
    "\n",
    "* Survival: Stat.Intellect\n",
    "\n",
    "* Stealth: Stat.Speed\n",
    "\n",
    "* Investigation: Stat.Intellect\n",
    "\n",
    "* Thievery: Stat.Speed\n",
    "\n",
    "\n",
    "\n",
    "**Numenera**\n",
    "\n",
    "* Mechanical: Stat.Intellect\n",
    "\n",
    "* Biological: Stat.Intellect\n",
    "\n",
    "* Crystalline: Stat.Intellect\n",
    "\n",
    "* Energy: Stat.Intellect\n",
    "\n",
    "* Psychic: Stat.Intellect\n",
    "\n",
    "* Psychic: Stat.Intellect\n",
    "\n",
    "\n",
    "\n",
    "**Crafting**\n",
    "\n",
    "* Weapons: Stat.Intellect\n",
    "\n",
    "* Armor: Stat.Intellect\n",
    "\n",
    "* Devices: Stat.Intellect\n",
    "\n",
    "* Tools: Stat.Intellect\n",
    "\n",
    "* Consumables: Stat.Intellect\n",
    "\n",
    "* Breeding: Stat.Intellect\n",
    "\n",
    "* Animal Raising: Stat.Intellect\n",
    "\n",
    "\n",
    "\n",
    "**Combat**\n",
    "\n",
    "* Attack: Stat.Might\n",
    "\n",
    "* Attack: Stat.Speed\n",
    "\n",
    "* Attack: Stat.Intellect\n",
    "\n",
    "* Defense: Stat.Might\n",
    "\n",
    "* Defense: Stat.Speed\n",
    "\n",
    "* Defense: Stat.Intellect\n",
    "\n",
    "* Initiative: Stat.Speed\n",
    "\n",
    "* Light Weapons: Stat.Speed\n",
    "\n",
    "* Medium Weapons: Stat.Might\n",
    "\n",
    "* Heavy Weapons: Stat.Might"
   ]
  },
  {
   "cell_type": "code",
   "execution_count": 29,
   "metadata": {},
   "outputs": [
    {
     "data": {
      "text/plain": [
       "{'Adventuring': {'Acrobatics': Acrobatics: Stat.Speed,\n",
       "  'Athletics': Athletics: Stat.Might,\n",
       "  'Healing': Healing: Stat.Intellect,\n",
       "  'Investigation': Investigation: Stat.Intellect,\n",
       "  'Perception': Perception: Stat.Intellect,\n",
       "  'Stealth': Stealth: Stat.Speed,\n",
       "  'Survival': Survival: Stat.Intellect,\n",
       "  'Thievery': Thievery: Stat.Speed},\n",
       " 'Combat': {'Heavy Weapons': Heavy Weapons: Stat.Might,\n",
       "  'Initiative': Initiative: Stat.Speed,\n",
       "  'Intellect Attack': Attack: Stat.Intellect,\n",
       "  'Intellect Defense': Defense: Stat.Intellect,\n",
       "  'Light Weapons': Light Weapons: Stat.Speed,\n",
       "  'Medium Weapons': Medium Weapons: Stat.Might,\n",
       "  'Might Attack': Attack: Stat.Might,\n",
       "  'Might Defense': Defense: Stat.Might,\n",
       "  'Speed Attack': Attack: Stat.Speed,\n",
       "  'Speed Defense': Defense: Stat.Speed},\n",
       " 'Crafting': {'Animal Raising': Animal Raising: Stat.Intellect,\n",
       "  'Armor': Armor: Stat.Intellect,\n",
       "  'Breeding': Breeding: Stat.Intellect,\n",
       "  'Consumables': Consumables: Stat.Intellect,\n",
       "  'Devices': Devices: Stat.Intellect,\n",
       "  'Tools': Tools: Stat.Intellect,\n",
       "  'Weapons': Weapons: Stat.Intellect},\n",
       " 'Numenera': {'Biological': Biological: Stat.Intellect,\n",
       "  'Crystalline': Crystalline: Stat.Intellect,\n",
       "  'Energy': Energy: Stat.Intellect,\n",
       "  'Mechanical': Mechanical: Stat.Intellect,\n",
       "  'Psychic': Psychic: Stat.Intellect,\n",
       "  'Temporal': Psychic: Stat.Intellect},\n",
       " 'Social': {'Bluff': Bluff: Stat.Intellect,\n",
       "  'Diplomacy': Diplomacy: Stat.Intellect,\n",
       "  'Insight': Insight: Stat.Intellect,\n",
       "  'Perform': Perform: Stat.Intellect}}"
      ]
     },
     "execution_count": 29,
     "metadata": {},
     "output_type": "execute_result"
    }
   ],
   "source": [
    "skills"
   ]
  },
  {
   "cell_type": "code",
   "execution_count": 20,
   "metadata": {
    "collapsed": true
   },
   "outputs": [],
   "source": [
    "skillsList = [skills, numeneraSkills, craftingSkills, combatSkills]"
   ]
  },
  {
   "cell_type": "code",
   "execution_count": 21,
   "metadata": {},
   "outputs": [
    {
     "data": {
      "text/plain": [
       "[{'Acrobatics': Acrobatics: Stat.Speed,\n",
       "  'Athletics': Athletics: Stat.Might,\n",
       "  'Bluff': Bluff: Stat.Intellect,\n",
       "  'Diplomacy': Diplomacy: Stat.Intellect,\n",
       "  'Healing': Healing: Stat.Intellect,\n",
       "  'Insight': Insight: Stat.Intellect,\n",
       "  'Investigation': Investigation: Stat.Intellect,\n",
       "  'Perception': Perception: Stat.Intellect,\n",
       "  'Perform': Perform: Stat.Intellect,\n",
       "  'Stealth': Stealth: Stat.Speed,\n",
       "  'Survival': Survival: Stat.Intellect},\n",
       " {'Biological': Biological: Stat.Intellect,\n",
       "  'Crystalline': Crystalline: Stat.Intellect,\n",
       "  'Energy': Energy: Stat.Intellect,\n",
       "  'Mechanical': Mechanical: Stat.Intellect,\n",
       "  'Psychic': Psychic: Stat.Intellect,\n",
       "  'Temporal': Psychic: Stat.Intellect},\n",
       " {'Armor': Armor: Stat.Intellect,\n",
       "  'Consumables': Consumables: Stat.Intellect,\n",
       "  'Devices': Devices: Stat.Intellect,\n",
       "  'Tools': Tools: Stat.Intellect,\n",
       "  'Weapons': Weapons: Stat.Intellect},\n",
       " {'Initiative': Initiative: Stat.Speed,\n",
       "  'Intellect Attack': Attack: Stat.Intellect,\n",
       "  'Intellect Defense': Defense: Stat.Intellect,\n",
       "  'Might Attack': Attack: Stat.Might,\n",
       "  'Might Defense': Defense: Stat.Might,\n",
       "  'Speed Attack': Attack: Stat.Speed,\n",
       "  'Speed Defense': Defense: Stat.Speed}]"
      ]
     },
     "execution_count": 21,
     "metadata": {},
     "output_type": "execute_result"
    }
   ],
   "source": [
    "skillsList"
   ]
  },
  {
   "cell_type": "code",
   "execution_count": 9,
   "metadata": {},
   "outputs": [
    {
     "data": {
      "text/plain": [
       "Name: foo\n",
       "Might: 16/16\n",
       "Speed: 10/10\n",
       "Intellect: 8/8"
      ]
     },
     "execution_count": 9,
     "metadata": {},
     "output_type": "execute_result"
    }
   ],
   "source": [
    "Character('foo', 16, 10, 8)"
   ]
  },
  {
   "cell_type": "code",
   "execution_count": 4,
   "metadata": {
    "collapsed": true
   },
   "outputs": [],
   "source": [
    "class Monster:\n",
    "    def __init__(self, name='', level=0, hp=0, armor=0, attacks={'Might': 0, 'Speed': 0, 'Intellect': 0}, defenses={'Might': 0, 'Speed': 0, 'Intellect': 0}):\n",
    "        self.name = name\n",
    "        self.level = level\n",
    "        self.hp = hp\n",
    "        self.armor = armor\n",
    "        self.attacks = attacks\n",
    "    def Attack(self, target, stat):\n",
    "        attackLevel = self.level+self.attacks[stat]\n",
    "        target.Defend(attackLevel, stat)"
   ]
  },
  {
   "cell_type": "code",
   "execution_count": null,
   "metadata": {
    "collapsed": true
   },
   "outputs": [],
   "source": [
    "class Creature:\n",
    "    "
   ]
  }
 ],
 "metadata": {
  "anaconda-cloud": {},
  "kernelspec": {
   "display_name": "Python 3",
   "language": "python",
   "name": "python3"
  },
  "language_info": {
   "codemirror_mode": {
    "name": "ipython",
    "version": 3
   },
   "file_extension": ".py",
   "mimetype": "text/x-python",
   "name": "python",
   "nbconvert_exporter": "python",
   "pygments_lexer": "ipython3",
   "version": "3.6.2"
  }
 },
 "nbformat": 4,
 "nbformat_minor": 2
}
