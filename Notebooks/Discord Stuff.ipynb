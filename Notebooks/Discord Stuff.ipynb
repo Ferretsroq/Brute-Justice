{
 "cells": [
  {
   "cell_type": "code",
   "execution_count": 23,
   "metadata": {
    "collapsed": true
   },
   "outputs": [],
   "source": [
    "from PIL import Image, ImageDraw\n",
    "import matplotlib.pyplot as plt\n",
    "import os\n",
    "import numpy as np\n",
    "import shelve\n",
    "import PyPDF2 as pdf\n",
    "import random\n",
    "%matplotlib inline"
   ]
  },
  {
   "cell_type": "code",
   "execution_count": 24,
   "metadata": {
    "collapsed": true
   },
   "outputs": [],
   "source": [
    "discordBlue = '#7289da'\n",
    "discordWhite = '#ffffff'\n",
    "discordGray = '#99aab5'\n",
    "discordDarkGray = '#2c2f33'\n",
    "discordBlack = '#23272a'"
   ]
  },
  {
   "cell_type": "code",
   "execution_count": 25,
   "metadata": {
    "collapsed": true
   },
   "outputs": [],
   "source": [
    "class Encounter:\n",
    "    def __init__(self, monsters=[], heroes=[]):\n",
    "        print('Hello, world!')\n",
    "        self.monsters = monsters\n",
    "        self.heroes = heroes\n",
    "        self.initiatives = []\n",
    "        for monster in self.monsters:\n",
    "            self.initiatives.append((monster, random.randint(1,20)))\n",
    "        for hero in self.heroes:\n",
    "            self.initiatives.append((hero, random.randint(1,20)))\n",
    "        self.initiatives.sort(key=lambda creature: creature[1] ,reverse=True)"
   ]
  },
  {
   "cell_type": "code",
   "execution_count": 26,
   "metadata": {
    "collapsed": true
   },
   "outputs": [],
   "source": [
    "def SquareGrid(lengthSquares=12, scaling=100, backgroundColor=discordDarkGray, gridColor=discordGray):\n",
    "    length = lengthSquares*scaling\n",
    "    image = Image.new(mode='RGB', size=(length,length), color=gridColor)\n",
    "    drawer = ImageDraw.Draw(image)\n",
    "    for pixel in range(0, image.width, 100):\n",
    "        drawer.line((pixel, 0, pixel, image.height), fill=backgroundColor, width=1)\n",
    "    for pixel in range(0, image.height, 100):\n",
    "        drawer.line((0, pixel, image.width, pixel), fill=backgroundColor, width=1)\n",
    "    drawer.line((image.width-1, 0, image.width-1, image.height), fill=backgroundColor, width=1)\n",
    "    drawer.line((0, image.height-1, image.width, image.height-1), fill=backgroundColor, width=1)\n",
    "    return image\n",
    "\n",
    "def RectangleGrid(widthSquares=12, heightSquares=6, scaling=100, backgroundColor=discordDarkGray, gridColor=discordGray):\n",
    "    width = widthSquares*scaling\n",
    "    height = heightSquares*scaling\n",
    "    image = Image.new(mode='RGB', size=(width,height), color=gridColor)\n",
    "    drawer = ImageDraw.Draw(image)\n",
    "    for pixel in range(0, image.width, 100):\n",
    "        drawer.line((pixel, 0, pixel, image.height), fill=backgroundColor, width=1)\n",
    "    for pixel in range(0, image.height, 100):\n",
    "        drawer.line((0, pixel, image.width, pixel), fill=backgroundColor, width=1)\n",
    "    drawer.line((image.width-1, 0, image.width-1, image.height), fill=backgroundColor, width=1)\n",
    "    drawer.line((0, image.height-1, image.width, image.height-1), fill=backgroundColor, width=1)\n",
    "    return image"
   ]
  },
  {
   "cell_type": "code",
   "execution_count": 27,
   "metadata": {
    "collapsed": true
   },
   "outputs": [],
   "source": [
    "def CircleGrid(diameterSquares=12, backgroundColor=discordDarkGray, gridColor=discordGray, scaling=100):\n",
    "    diameter = diameterSquares*scaling\n",
    "    image = Image.new(mode='RGB', size=(diameter,diameter), color=backgroundColor)\n",
    "    drawer = ImageDraw.Draw(image)\n",
    "    drawer.ellipse((0, 0, diameter-1, diameter-1), fill=gridColor, outline='black')\n",
    "    for pixel in range(0, image.width, 100):\n",
    "        drawer.line((pixel, 0, pixel, image.height), fill=backgroundColor, width=1)\n",
    "    for pixel in range(0, image.height, 100):\n",
    "        drawer.line((0, pixel, image.width, pixel), fill=backgroundColor, width=1)\n",
    "    drawer.line((image.width-1, 0, image.width-1, image.height), fill=backgroundColor, width=1)\n",
    "    drawer.line((0, image.height-1, image.width, image.height-1), fill=backgroundColor, width=1)\n",
    "    return image"
   ]
  },
  {
   "cell_type": "code",
   "execution_count": 39,
   "metadata": {
    "collapsed": false
   },
   "outputs": [
    {
     "data": {
      "image/png": "[encoded data removed]",
      "text/plain": [
       "<PIL.Image.Image image mode=RGB size=900x900 at 0x19F6CB29EF0>"
      ]
     },
     "execution_count": 39,
     "metadata": {},
     "output_type": "execute_result"
    }
   ],
   "source": [
    "HexagonGrid(9)"
   ]
  },
  {
   "cell_type": "code",
   "execution_count": 30,
   "metadata": {
    "collapsed": true
   },
   "outputs": [],
   "source": [
    "def HexagonGrid(diameterSquares=12, scaling=100, backgroundColor=discordDarkGray, gridColor=discordGray):\n",
    "    imageSize = diameterSquares*scaling\n",
    "    image = Image.new(mode='RGB', size = (imageSize,imageSize), color=backgroundColor)\n",
    "    drawer = ImageDraw.Draw(image)\n",
    "    length = (imageSize/2)-1\n",
    "    c60 = np.cos(np.pi/3)\n",
    "    s60 = np.sin(np.pi/3)\n",
    "    drawer.polygon((0,length,length*c60, length-(length*s60), length*(1+c60), length-(length*s60), 2*length, length, length*(1+c60), length+(length*s60), length*c60, length+(length*s60)), outline='black', fill=gridColor)\n",
    "    for pixel in range(0, image.width, 100):\n",
    "        drawer.line((pixel, 0, pixel, image.height), fill=backgroundColor, width=1)\n",
    "    for pixel in range(0, image.height, 100):\n",
    "        drawer.line((0, pixel, image.width, pixel), fill=backgroundColor, width=1)\n",
    "    drawer.line((image.width-1, 0, image.width-1, image.height), fill=backgroundColor, width=1)\n",
    "    drawer.line((0, image.height-1, image.width, image.height-1), fill=backgroundColor, width=1)\n",
    "    return image"
   ]
  },
  {
   "cell_type": "code",
   "execution_count": 31,
   "metadata": {
    "collapsed": true
   },
   "outputs": [],
   "source": [
    "def OctagonGrid(diameterSquares=12, scaling=100, backgroundColor=discordDarkGray, gridColor=discordGray):\n",
    "    imageSize = diameterSquares*scaling\n",
    "    image = Image.new(mode='RGB', size = (imageSize,imageSize), color=backgroundColor)\n",
    "    drawer = ImageDraw.Draw(image)\n",
    "    length = imageSize\n",
    "    side = length*np.tan(22.5*np.pi/180.0)\n",
    "    drawer.polygon((0, (0.5*length - 0.5*side), (0.5*length - 0.5*side), 0, (0.5*length + 0.5*side), 0, length, (0.5*length - 0.5*side), length, (0.5*length + 0.5*side), (0.5*length + 0.5*side), length, (0.5*length - 0.5*side), length, 0, (0.5*length+0.5*side)), outline='black', fill=gridColor)\n",
    "    #c60 = np.cos(np.pi/3)\n",
    "    #s60 = np.sin(np.pi/3)\n",
    "    #drawer.polygon((0,length,length*c60, length-(length*s60), length*(1+c60), length-(length*s60), 2*length, length, length*(1+c60), length+(length*s60), length*c60, length+(length*s60)), outline='black', fill='white')\n",
    "    for pixel in range(0, image.width, 100):\n",
    "        drawer.line((pixel, 0, pixel, image.height), fill=backgroundColor, width=1)\n",
    "    for pixel in range(0, image.height, 100):\n",
    "        drawer.line((0, pixel, image.width, pixel), fill=backgroundColor, width=1)\n",
    "    drawer.line((image.width-1, 0, image.width-1, image.height), fill=backgroundColor, width=1)\n",
    "    drawer.line((0, image.height-1, image.width, image.height-1), fill=backgroundColor, width=1)\n",
    "    return image"
   ]
  },
  {
   "cell_type": "code",
   "execution_count": 32,
   "metadata": {
    "collapsed": true
   },
   "outputs": [],
   "source": [
    "def Chamber(roll=0, backgroundColor=discordDarkGray, gridColor=discordGray):\n",
    "    if(roll < 1):\n",
    "        roll = random.randint(1,20)\n",
    "    elif(roll in range(1,3)):\n",
    "        return SquareGrid(4)\n",
    "    elif(roll in range(3,5)):\n",
    "        return SquareGrid(6)\n",
    "    elif(roll in range(5,7)):\n",
    "        return SquareGrid(8)\n",
    "    elif(roll in range(7, 10)):\n",
    "        return RectangleGrid(4, 6)\n",
    "    elif(roll in range(10, 13)):\n",
    "        return RectangleGrid(6, 8)\n",
    "    elif(roll in range(13, 15)):\n",
    "        return RectangleGrid(8, 10)\n",
    "    elif(roll in range(15, 16)):\n",
    "        return RectangleGrid(10, 16)\n",
    "    elif(roll in range(16, 17)):\n",
    "        return CircleGrid(6)\n",
    "    elif(roll in range(17,18)):\n",
    "        return CircleGrid(10)\n",
    "    elif(roll in range(18,19)):\n",
    "        return OctagonGrid(8)\n",
    "    elif(roll in range(19, 20)):\n",
    "        return OctagonGrid(12)\n",
    "    elif(roll in range(20,21)):\n",
    "        return HexagonGrid(10)\n",
    "    else:\n",
    "        return SquareGrid(12)"
   ]
  },
  {
   "cell_type": "code",
   "execution_count": 33,
   "metadata": {
    "collapsed": true
   },
   "outputs": [],
   "source": [
    "def Grid(image, spacing):\n",
    "    drawer = ImageDraw.Draw(image)\n",
    "    for pixel in range(0, image.width, spacing):\n",
    "        drawer.line((pixel, 0, pixel, image.height), fill=0, width=1)\n",
    "    for pixel in range(0, image.height, spacing):\n",
    "        drawer.line((0, pixel, image.width, pixel), fill=0, width=1)\n",
    "    drawer.line((image.width-1, 0, image.width-1, image.height), fill=0, width=1)\n",
    "    drawer.line((0, image.height-1, image.width, image.height-1), fill=0, width=1)"
   ]
  },
  {
   "cell_type": "code",
   "execution_count": 34,
   "metadata": {
    "collapsed": true
   },
   "outputs": [],
   "source": [
    "def CircleGridByArray(inputArray, spacing=100, backgroundColor=discordDarkGray, gridColor=discordGray):\n",
    "    image = Image.new('RGB', (inputArray.shape[0]*spacing, inputArray.shape[1]*spacing), backgroundColor)\n",
    "    #Grid(image, spacing)\n",
    "    drawer = ImageDraw.Draw(image)\n",
    "    drawer.ellipse((0,0, image.width-1, image.height-1), fill=discordGray, outline=gridColor)\n",
    "    for row in range(len(inputArray)):\n",
    "        for column in range(len(inputArray)):\n",
    "            if(inputArray[row][column] == 1):\n",
    "                drawer.line((row*spacing, column*spacing, row*spacing, ((column+1)*spacing)), fill=backgroundColor, width=1)\n",
    "                drawer.line((row*spacing, column*spacing, (row+1)*spacing, column*spacing), fill=backgroundColor, width=1)\n",
    "                drawer.line(((row+1)*spacing, column*spacing, (row+1)*spacing, ((column+1)*spacing)), fill=backgroundColor, width=1)\n",
    "                drawer.line((row*spacing, (column+1)*spacing, (row+1)*spacing, ((column+1)*spacing)), fill=backgroundColor, width=1)\n",
    "    return image"
   ]
  },
  {
   "cell_type": "code",
   "execution_count": 35,
   "metadata": {
    "collapsed": true
   },
   "outputs": [],
   "source": [
    "def CircleGridArray(diameterSquares=12, backgroundColor=discordDarkGray, gridColor=discordGray, scaling=100):\n",
    "    diameter = diameterSquares*scaling\n",
    "    dataArray = np.zeros((diameterSquares, diameterSquares))\n",
    "    x, y = np.ogrid[0:diameterSquares, 0:diameterSquares]\n",
    "    mask = (x-(diameterSquares-1)/2)**2 + (y-(diameterSquares-1)/2)**2 <= (diameterSquares/2)**2\n",
    "    mask = mask.astype(int)\n",
    "    image = Image.new(mode='RGB', size=(diameter,diameter), color=backgroundColor)\n",
    "    drawer = ImageDraw.Draw(image)\n",
    "    drawer.ellipse((0, 0, diameter-1, diameter-1), fill=gridColor, outline='black')\n",
    "    for row in range(len(mask)):\n",
    "        for column in range(len(mask[row])):\n",
    "            if(mask[row][column] == 1):\n",
    "                drawer.line((row*scaling, column*scaling, row*scaling, ((column+1)*scaling)), fill=backgroundColor, width=1)\n",
    "                drawer.line((row*scaling, column*scaling, (row+1)*scaling, column*scaling), fill=backgroundColor, width=1)\n",
    "                drawer.line(((row+1)*scaling, column*scaling, (row+1)*scaling, ((column+1)*scaling)), fill=backgroundColor, width=1)\n",
    "                drawer.line((row*scaling, (column+1)*scaling, (row+1)*scaling, ((column+1)*scaling)), fill=backgroundColor, width=1)\n",
    "    return image, mask"
   ]
  },
  {
   "cell_type": "code",
   "execution_count": 47,
   "metadata": {
    "collapsed": false
   },
   "outputs": [
    {
     "data": {
      "image/png": "[encoded data removed]",
      "text/plain": [
       "<PIL.Image.Image image mode=RGB size=700x700 at 0x19F6CB3BFD0>"
      ]
     },
     "execution_count": 47,
     "metadata": {},
     "output_type": "execute_result"
    }
   ],
   "source": [
    "OctagonGrid(7)"
   ]
  },
  {
   "cell_type": "code",
   "execution_count": 286,
   "metadata": {
    "collapsed": false
   },
   "outputs": [
    {
     "data": {
      "image/png": "[encoded data removed]",
      "text/plain": [
       "<PIL.Image.Image image mode=RGB size=1200x1200 at 0x1D7337B0748>"
      ]
     },
     "execution_count": 286,
     "metadata": {},
     "output_type": "execute_result"
    }
   ],
   "source": [
    "im"
   ]
  },
  {
   "cell_type": "code",
   "execution_count": 285,
   "metadata": {
    "collapsed": false
   },
   "outputs": [
    {
     "data": {
      "text/plain": [
       "array([[0, 0, 0, 0, 1, 1, 1, 1, 0, 0, 0, 0],\n",
       "       [0, 0, 1, 1, 1, 1, 1, 1, 1, 1, 0, 0],\n",
       "       [0, 1, 1, 1, 1, 1, 1, 1, 1, 1, 1, 0],\n",
       "       [0, 1, 1, 1, 1, 1, 1, 1, 1, 1, 1, 0],\n",
       "       [1, 1, 1, 1, 1, 1, 1, 1, 1, 1, 1, 1],\n",
       "       [1, 1, 1, 1, 1, 1, 1, 1, 1, 1, 1, 1],\n",
       "       [1, 1, 1, 1, 1, 1, 1, 1, 1, 1, 1, 1],\n",
       "       [1, 1, 1, 1, 1, 1, 1, 1, 1, 1, 1, 1],\n",
       "       [0, 1, 1, 1, 1, 1, 1, 1, 1, 1, 1, 0],\n",
       "       [0, 1, 1, 1, 1, 1, 1, 1, 1, 1, 1, 0],\n",
       "       [0, 0, 1, 1, 1, 1, 1, 1, 1, 1, 0, 0],\n",
       "       [0, 0, 0, 0, 1, 1, 1, 1, 0, 0, 0, 0]])"
      ]
     },
     "execution_count": 285,
     "metadata": {},
     "output_type": "execute_result"
    }
   ],
   "source": [
    "data"
   ]
  },
  {
   "cell_type": "code",
   "execution_count": 278,
   "metadata": {
    "collapsed": true
   },
   "outputs": [],
   "source": [
    "data[data == True] = 5"
   ]
  },
  {
   "cell_type": "code",
   "execution_count": 280,
   "metadata": {
    "collapsed": false
   },
   "outputs": [
    {
     "data": {
      "text/plain": [
       "array([[0, 0, 0, 0, 1, 1, 1, 1, 0, 0, 0, 0],\n",
       "       [0, 0, 1, 1, 1, 1, 1, 1, 1, 1, 0, 0],\n",
       "       [0, 1, 1, 1, 1, 1, 1, 1, 1, 1, 1, 0],\n",
       "       [0, 1, 1, 1, 1, 1, 1, 1, 1, 1, 1, 0],\n",
       "       [1, 1, 1, 1, 1, 1, 1, 1, 1, 1, 1, 1],\n",
       "       [1, 1, 1, 1, 1, 1, 1, 1, 1, 1, 1, 1],\n",
       "       [1, 1, 1, 1, 1, 1, 1, 1, 1, 1, 1, 1],\n",
       "       [1, 1, 1, 1, 1, 1, 1, 1, 1, 1, 1, 1],\n",
       "       [0, 1, 1, 1, 1, 1, 1, 1, 1, 1, 1, 0],\n",
       "       [0, 1, 1, 1, 1, 1, 1, 1, 1, 1, 1, 0],\n",
       "       [0, 0, 1, 1, 1, 1, 1, 1, 1, 1, 0, 0],\n",
       "       [0, 0, 0, 0, 1, 1, 1, 1, 0, 0, 0, 0]])"
      ]
     },
     "execution_count": 280,
     "metadata": {},
     "output_type": "execute_result"
    }
   ],
   "source": [
    "data.astype(int)"
   ]
  },
  {
   "cell_type": "code",
   "execution_count": 281,
   "metadata": {
    "collapsed": false
   },
   "outputs": [
    {
     "data": {
      "text/plain": [
       "array([[False, False, False, False,  True,  True,  True,  True, False,\n",
       "        False, False, False],\n",
       "       [False, False,  True,  True,  True,  True,  True,  True,  True,\n",
       "         True, False, False],\n",
       "       [False,  True,  True,  True,  True,  True,  True,  True,  True,\n",
       "         True,  True, False],\n",
       "       [False,  True,  True,  True,  True,  True,  True,  True,  True,\n",
       "         True,  True, False],\n",
       "       [ True,  True,  True,  True,  True,  True,  True,  True,  True,\n",
       "         True,  True,  True],\n",
       "       [ True,  True,  True,  True,  True,  True,  True,  True,  True,\n",
       "         True,  True,  True],\n",
       "       [ True,  True,  True,  True,  True,  True,  True,  True,  True,\n",
       "         True,  True,  True],\n",
       "       [ True,  True,  True,  True,  True,  True,  True,  True,  True,\n",
       "         True,  True,  True],\n",
       "       [False,  True,  True,  True,  True,  True,  True,  True,  True,\n",
       "         True,  True, False],\n",
       "       [False,  True,  True,  True,  True,  True,  True,  True,  True,\n",
       "         True,  True, False],\n",
       "       [False, False,  True,  True,  True,  True,  True,  True,  True,\n",
       "         True, False, False],\n",
       "       [False, False, False, False,  True,  True,  True,  True, False,\n",
       "        False, False, False]], dtype=bool)"
      ]
     },
     "execution_count": 281,
     "metadata": {},
     "output_type": "execute_result"
    }
   ],
   "source": [
    "data"
   ]
  },
  {
   "cell_type": "code",
   "execution_count": 262,
   "metadata": {
    "collapsed": false
   },
   "outputs": [
    {
     "data": {
      "image/png": "[encoded data removed]",
      "text/plain": [
       "<PIL.Image.Image image mode=RGB size=1000x1000 at 0x1D7337E7208>"
      ]
     },
     "execution_count": 262,
     "metadata": {},
     "output_type": "execute_result"
    }
   ],
   "source": [
    "myArray = np.zeros((10,10))\n",
    "x, y = np.ogrid[0: 10, 0: 10]\n",
    "mask = (x-4.5)**2+(y-4.5)**2 <= 5**2\n",
    "im = CircleGridByArray(mask)\n",
    "im"
   ]
  },
  {
   "cell_type": "code",
   "execution_count": 222,
   "metadata": {
    "collapsed": false
   },
   "outputs": [
    {
     "data": {
      "image/png": "[encoded data removed]",
      "text/plain": [
       "<PIL.Image.Image image mode=RGB size=1000x1000 at 0x1D7321B94E0>"
      ]
     },
     "execution_count": 222,
     "metadata": {},
     "output_type": "execute_result"
    }
   ],
   "source": [
    "CircleGrid(10)"
   ]
  },
  {
   "cell_type": "code",
   "execution_count": 204,
   "metadata": {
    "collapsed": true
   },
   "outputs": [],
   "source": [
    "donut = np.logical_and(circle<(6400+60), circle>(6400-60))"
   ]
  },
  {
   "cell_type": "code",
   "execution_count": 206,
   "metadata": {
    "collapsed": false,
    "scrolled": false
   },
   "outputs": [
    {
     "name": "stdout",
     "output_type": "stream",
     "text": [
      "[[False False False ..., False False False]\n",
      " [False False False ..., False False False]\n",
      " [False False False ..., False False False]\n",
      " ..., \n",
      " [False False False ..., False False False]\n",
      " [False False False ..., False False False]\n",
      " [False False False ..., False False False]]\n"
     ]
    }
   ],
   "source": [
    "print(donut)"
   ]
  },
  {
   "cell_type": "code",
   "execution_count": 188,
   "metadata": {
    "collapsed": false
   },
   "outputs": [
    {
     "data": {
      "image/png": "[encoded data removed]",
      "text/plain": [
       "<PIL.Image.Image image mode=RGB size=1000x1000 at 0x1D72DAD2908>"
      ]
     },
     "execution_count": 188,
     "metadata": {},
     "output_type": "execute_result"
    }
   ],
   "source": [
    "GridByArray(myArray, 100)"
   ]
  },
  {
   "cell_type": "code",
   "execution_count": 4,
   "metadata": {
    "collapsed": true
   },
   "outputs": [],
   "source": [
    "class Corridor:\n",
    "    def __init__(self, length=10, width=4):\n",
    "        self.length = length\n",
    "        self.width = width\n",
    "        self.data = np.zeros((self.width, self.length))\n",
    "        self.grid = ImageByArray(self.data, 100)"
   ]
  },
  {
   "cell_type": "code",
   "execution_count": null,
   "metadata": {
    "collapsed": true
   },
   "outputs": [],
   "source": [
    "Corridor(20, 2).grid"
   ]
  },
  {
   "cell_type": "code",
   "execution_count": null,
   "metadata": {
    "collapsed": true
   },
   "outputs": [],
   "source": [
    "foo = np.zeros((10,10))"
   ]
  },
  {
   "cell_type": "code",
   "execution_count": null,
   "metadata": {
    "collapsed": true
   },
   "outputs": [],
   "source": [
    "foo[2:5, 2:5] = 1"
   ]
  },
  {
   "cell_type": "code",
   "execution_count": null,
   "metadata": {
    "collapsed": true
   },
   "outputs": [],
   "source": [
    "foo"
   ]
  },
  {
   "cell_type": "code",
   "execution_count": null,
   "metadata": {
    "collapsed": true
   },
   "outputs": [],
   "source": [
    "im = Image.new('RGB', (100,100), 'green')"
   ]
  },
  {
   "cell_type": "code",
   "execution_count": null,
   "metadata": {
    "collapsed": true
   },
   "outputs": [],
   "source": [
    "im.tobytes()"
   ]
  },
  {
   "cell_type": "code",
   "execution_count": null,
   "metadata": {
    "collapsed": true
   },
   "outputs": [],
   "source": [
    "pdfFileObj = open('C:\\\\Users\\\\Ferret\\\\Dropbox\\\\Numenera\\\\Core Book.pdf', 'rb')\n",
    "pdfReader = pdf.PdfFileReader(pdfFileObj)"
   ]
  },
  {
   "cell_type": "code",
   "execution_count": null,
   "metadata": {
    "collapsed": true
   },
   "outputs": [],
   "source": [
    "page = pdfReader.getPage(232)"
   ]
  },
  {
   "cell_type": "code",
   "execution_count": null,
   "metadata": {
    "collapsed": true
   },
   "outputs": [],
   "source": [
    "page.extractText()"
   ]
  },
  {
   "cell_type": "code",
   "execution_count": null,
   "metadata": {
    "collapsed": true
   },
   "outputs": [],
   "source": [
    "pdfReader.getOutlines()[3]['/Title']"
   ]
  },
  {
   "cell_type": "code",
   "execution_count": null,
   "metadata": {
    "collapsed": true
   },
   "outputs": [],
   "source": [
    "GetImageFromPDF('C:\\\\Users\\\\Ferret\\\\Dropbox\\\\Numenera\\\\Core Book.pdf', 232)"
   ]
  },
  {
   "cell_type": "code",
   "execution_count": null,
   "metadata": {
    "collapsed": true
   },
   "outputs": [],
   "source": [
    "pdfFileObj = open('F:\\\\RPG Stuff\\\\4e\\\\PDFs\\\\Monster Manual 1.pdf', 'rb')\n",
    "pdfReader = pdf.PdfFileReader(pdfFileObj)"
   ]
  },
  {
   "cell_type": "code",
   "execution_count": null,
   "metadata": {
    "collapsed": true
   },
   "outputs": [],
   "source": [
    "page = pdfReader.getPage(7)"
   ]
  },
  {
   "cell_type": "code",
   "execution_count": null,
   "metadata": {
    "collapsed": true
   },
   "outputs": [],
   "source": [
    "page"
   ]
  },
  {
   "cell_type": "code",
   "execution_count": null,
   "metadata": {
    "collapsed": true
   },
   "outputs": [],
   "source": [
    "outlines = pdfReader.getOutlines()"
   ]
  },
  {
   "cell_type": "code",
   "execution_count": null,
   "metadata": {
    "collapsed": true
   },
   "outputs": [],
   "source": [
    "outlines[1][2][0]['/Title']"
   ]
  },
  {
   "cell_type": "code",
   "execution_count": null,
   "metadata": {
    "collapsed": true
   },
   "outputs": [],
   "source": [
    "xobj = outlines[1][3]['/Page']['/Parent']['/Kids'][0].getObject()['/Resources']['/XObject'].getObject()"
   ]
  },
  {
   "cell_type": "code",
   "execution_count": null,
   "metadata": {
    "collapsed": true
   },
   "outputs": [],
   "source": [
    "xobj"
   ]
  },
  {
   "cell_type": "code",
   "execution_count": null,
   "metadata": {
    "collapsed": true,
    "scrolled": true
   },
   "outputs": [],
   "source": [
    "outlines[1][3]['/Page']['/Parent']['/Parent']['/Kids'][3].getObject()['/Kids'][2].getObject()['/Resources']['/XObject'].getObject()\n",
    "size = xobj['/Im0']['/Width'], xobj['/Im0']['/Height']\n",
    "data = xobj['/Im0'].getData()\n",
    "mode = 'RGB'\n",
    "img = open('bar.jpg', 'wb')\n",
    "img.write(data)\n",
    "img.close()"
   ]
  },
  {
   "cell_type": "code",
   "execution_count": null,
   "metadata": {
    "collapsed": true
   },
   "outputs": [],
   "source": [
    "xobj = outlines[1][3]['/Page']['/Parent']['/Kids'][0].getObject()['/Resources']['/XObject'].getObject()\n",
    "size = xobj['/Im0']['/Width'], xobj['/Im0']['/Height']\n",
    "data = xobj['/Im0'].getData()\n",
    "mode = 'RGB'\n",
    "img = open('foo.jpg', 'wb')\n",
    "img.write(data)\n",
    "img.close()"
   ]
  },
  {
   "cell_type": "code",
   "execution_count": null,
   "metadata": {
    "collapsed": true
   },
   "outputs": [],
   "source": [
    "outlines[1][3]['/Type']"
   ]
  },
  {
   "cell_type": "code",
   "execution_count": null,
   "metadata": {
    "collapsed": true
   },
   "outputs": [],
   "source": [
    "foo = outlines[1][4][1]"
   ]
  },
  {
   "cell_type": "code",
   "execution_count": null,
   "metadata": {
    "collapsed": true
   },
   "outputs": [],
   "source": [
    "len(foo)"
   ]
  },
  {
   "cell_type": "code",
   "execution_count": null,
   "metadata": {
    "collapsed": true
   },
   "outputs": [],
   "source": [
    "outlines[1][4][1][0]['/Title']"
   ]
  },
  {
   "cell_type": "code",
   "execution_count": null,
   "metadata": {
    "collapsed": true
   },
   "outputs": [],
   "source": [
    "outlines[1][4][3][0]['/Title']"
   ]
  },
  {
   "cell_type": "code",
   "execution_count": null,
   "metadata": {
    "collapsed": true
   },
   "outputs": [],
   "source": [
    "pdfReader.getDestinationPageNumber(outlines[1][4][1][0])"
   ]
  },
  {
   "cell_type": "code",
   "execution_count": null,
   "metadata": {
    "collapsed": true
   },
   "outputs": [],
   "source": [
    "pagenum = pdfReader.getDestinationPageNumber(outlines[1][4][1][0])"
   ]
  },
  {
   "cell_type": "code",
   "execution_count": null,
   "metadata": {
    "collapsed": true
   },
   "outputs": [],
   "source": [
    "outlines[1][4][1][0]['/Title']"
   ]
  },
  {
   "cell_type": "code",
   "execution_count": null,
   "metadata": {
    "collapsed": true
   },
   "outputs": [],
   "source": [
    "def InitializeMonsters(path, inputDictionary):\n",
    "\tpdfFileObj = open(path, 'rb')\n",
    "\tpdfReader = pdf.PdfFileReader(pdfFileObj)\n",
    "\toutlines = pdfReader.getOutlines()\n",
    "\n",
    "\tbookmarks = []\n",
    "\tfor outline in outlines:\n",
    "\t\tbookmarks.append(pdfReader.getDestinationPageNumber(outline))\n",
    "\tbookmarks.append(pdfReader.numPages-1)\n",
    "\tpages = []\n",
    "\tfor index in range(len(bookmarks)-1):\n",
    "\t\tpages.append(bookmarks[index+1] - bookmarks[index])\n",
    "        \n",
    "\tfor outline in range(len(outlines)):\n",
    "\t\tinputDictionary[outlines[outline]['/Title']] = {'pageStart' : pdfReader.getDestinationPageNumber(outlines[outline]),\n",
    "\t\t\t\t\t\t\t\t\t\t\t\t\t\t'pageSpan'  : pages[outline],\n",
    "\t\t\t\t\t\t\t\t\t\t\t\t\t\t'book'\t\t: path.split('\\\\')[-1].strip('.pdf') }\n"
   ]
  },
  {
   "cell_type": "code",
   "execution_count": null,
   "metadata": {
    "collapsed": true
   },
   "outputs": [],
   "source": [
    "def InitializeMM3(path, inputDictionary):\n",
    "    pdfFileObj = open(path, 'rb')\n",
    "    pdfReader = pdf.PdfFileReader(pdfFileObj)\n",
    "    outlines = pdfReader.getOutlines()\n",
    "    outlines = pdfReader.getOutlines()\n",
    "    monsterBookmarkLists = outlines[1][4][1::2]\n",
    "    monsters = []\n",
    "    for monsterList in monsterBookmarkLists:\n",
    "        for monster in monsterList:\n",
    "            monsters.append(monster)\n",
    "    bookmarks = []\n",
    "    for monster in monsters:\n",
    "        bookmarks.append(pdfReader.getDestinationPageNumber(monster))\n",
    "        bookmarks.append(pdfReader.numPages-1)\n",
    "    bookmarks.append(pdfReader.numPages-1)\n",
    "    pages = []\n",
    "    for index in range(len(bookmarks)-1):\n",
    "        pages.append(bookmarks[index+1] - bookmarks[index])\n",
    "    for monster in range(len(monsters)):\n",
    "        inputDictionary[monsters[monster]['/Title'].strip()] = {'pageStart' : pdfReader.getDestinationPageNumber(monsters[monster]),\n",
    "                                                                'pageSpan'  : pages[monster],\n",
    "                                                                'book'      : path.split('\\\\')[-1].strip('.pdf')}"
   ]
  },
  {
   "cell_type": "code",
   "execution_count": null,
   "metadata": {
    "collapsed": true
   },
   "outputs": [],
   "source": [
    "mm3Path = 'F:\\\\RPG Stuff\\\\4e\\\\PDFs\\\\Monster Manual 3.pdf'\n",
    "monsterDict = {}\n",
    "InitializeMM3(mm3path, monsterDict)"
   ]
  },
  {
   "cell_type": "code",
   "execution_count": null,
   "metadata": {
    "collapsed": true
   },
   "outputs": [],
   "source": [
    "def GetImageFromPDF(path, pageNumber, name=None):\n",
    "\tmyPDF = pdf.PdfFileReader(open(path, 'rb'))\n",
    "\tpage = myPDF.getPage(pageNumber)\n",
    "\txObject = page['/Resources']['/XObject'].getObject()\n",
    "\tfor obj in xObject:\n",
    "\t\tif xObject[obj]['/Subtype'] == '/Image':\n",
    "\t\t\tif(name):\n",
    "\t\t\t\ttitle = name+'.jpg'\n",
    "\t\t\telse:\n",
    "\t\t\t\ttitle = obj[1:]+'.jpg'\n",
    "\t\t\tsize = (xObject[obj]['/Width'], xObject[obj]['/Height'])\n",
    "\t\t\tdata = xObject[obj].getData()\n",
    "\t\t\tmode = \"RGB\"\n",
    "\t\t\timg = open(title, \"wb\")\n",
    "\t\t\timg.write(data)\n",
    "\t\t\timg.close()\n",
    "\t\t\treturn title\n",
    "\treturn None"
   ]
  },
  {
   "cell_type": "code",
   "execution_count": null,
   "metadata": {
    "collapsed": true
   },
   "outputs": [],
   "source": [
    "GetImageFromPDF(mm3path, 11)"
   ]
  },
  {
   "cell_type": "code",
   "execution_count": null,
   "metadata": {
    "collapsed": true
   },
   "outputs": [],
   "source": [
    "monsterDict"
   ]
  },
  {
   "cell_type": "code",
   "execution_count": null,
   "metadata": {
    "collapsed": true
   },
   "outputs": [],
   "source": [
    "pagenum = pdfReader.getDestinationPageNumber(outlines[1][4][1][0])\n",
    "GetImageFromPDF(pdfReader, pagenum, outlines[1][4][1][0]['/Title'].strip())"
   ]
  },
  {
   "cell_type": "code",
   "execution_count": null,
   "metadata": {
    "collapsed": true
   },
   "outputs": [],
   "source": [
    "outlines = pdfReader.getOutlines()\n",
    "\n",
    "bookmarks = []\n",
    "for outline in outlines:\n",
    "    bookmarks.append(pdfReader.getDestinationPageNumber(outline))\n",
    "bookmarks.append(pdfReader.numPages-1)\n",
    "pages = []\n",
    "for index in range(len(bookmarks)-1):\n",
    "    pages.append(bookmarks[index+1] - bookmarks[index])\n",
    "        \n",
    "monsterDict = {}\n",
    "for outline in range(len(outlines)):\n",
    "    monsterDict[outlines[outline]['/Title']] = {'pageStart' : pdfReader.getDestinationPageNumber(outlines[outline]),\n",
    "                                                'pageSpan'  : pages[outline],\n",
    "                                                'book'      : 'Monster Manual 2'}"
   ]
  },
  {
   "cell_type": "code",
   "execution_count": null,
   "metadata": {
    "collapsed": true
   },
   "outputs": [],
   "source": [
    "def GetImageFromPDF(pdf, pageNumber, name=None):\n",
    "    page = pdf.getPage(pageNumber)\n",
    "    xObject = page['/Resources']['/XObject'].getObject()\n",
    "    for obj in xObject:\n",
    "            if xObject[obj]['/Subtype'] == '/Image':\n",
    "                if(name):\n",
    "                    title = name+'.jpg'\n",
    "                else:\n",
    "                    title = obj[1:]+'.jpg'\n",
    "                size = (xObject[obj]['/Width'], xObject[obj]['/Height'])\n",
    "                data = xObject[obj].getData()\n",
    "                mode = \"RGB\"\n",
    "                img = open(title, \"wb\")\n",
    "                img.write(data)\n",
    "                img.close()\n",
    "                return title"
   ]
  },
  {
   "cell_type": "code",
   "execution_count": null,
   "metadata": {
    "collapsed": true
   },
   "outputs": [],
   "source": [
    "for page in range(monsterDict['Angel']['pageSpan']):\n",
    "    print(GetImageFromPDF(pdfReader, monsterDict['Angel']['pageStart'] + page))"
   ]
  },
  {
   "cell_type": "code",
   "execution_count": null,
   "metadata": {
    "collapsed": true
   },
   "outputs": [],
   "source": [
    "monsterString = ''\n",
    "for key in monsterDict.keys():\n",
    "    monsterString += '{:<24} - {}\\n'.format(key, monsterDict[key]['book'])\n",
    "print(monsterString)"
   ]
  },
  {
   "cell_type": "code",
   "execution_count": null,
   "metadata": {
    "collapsed": true
   },
   "outputs": [],
   "source": [
    "mm2Path = 'F:\\\\RPG Stuff\\\\4e\\\\PDFs\\\\Monster Manual 2.pdf'\n",
    "mm2Path.split('\\\\')[-1].strip('.pdf')"
   ]
  },
  {
   "cell_type": "code",
   "execution_count": null,
   "metadata": {
    "collapsed": true
   },
   "outputs": [],
   "source": []
  },
  {
   "cell_type": "code",
   "execution_count": null,
   "metadata": {
    "collapsed": true
   },
   "outputs": [],
   "source": [
    "gridSpacing = 100\n",
    "width = 12\n",
    "height = 12\n",
    "image = Image.new('RGB', (width*gridSpacing, height*gridSpacing), 'white')\n"
   ]
  },
  {
   "cell_type": "code",
   "execution_count": null,
   "metadata": {
    "collapsed": true
   },
   "outputs": [],
   "source": [
    "def Grid(image, spacing):\n",
    "    drawer = ImageDraw.Draw(image)\n",
    "    for pixel in range(0, image.width, spacing):\n",
    "        drawer.line((pixel, 0, pixel, image.height), fill=0, width=1)\n",
    "    for pixel in range(0, image.height, spacing):\n",
    "        drawer.line((0, pixel, image.width, pixel), fill=0, width=1)\n",
    "    drawer.line((image.width-1, 0, image.width-1, image.height), fill=0, width=1)\n",
    "    drawer.line((0, image.height-1, image.width, image.height-1), fill=0, width=1)"
   ]
  },
  {
   "cell_type": "code",
   "execution_count": null,
   "metadata": {
    "collapsed": true
   },
   "outputs": [],
   "source": [
    "def ImageByArray(inputArray, spacing):\n",
    "    image = Image.new('RGB', (inputArray.shape[0]*spacing, inputArray.shape[1]*spacing), 'white')\n",
    "    Grid(image, spacing)\n",
    "    return image"
   ]
  },
  {
   "cell_type": "code",
   "execution_count": null,
   "metadata": {
    "collapsed": true
   },
   "outputs": [],
   "source": [
    "image.width"
   ]
  },
  {
   "cell_type": "code",
   "execution_count": null,
   "metadata": {
    "collapsed": true,
    "scrolled": false
   },
   "outputs": [],
   "source": [
    "gridArray = np.zeros((12,12))\n",
    "ImageByArray(gridArray, gridSpacing)"
   ]
  },
  {
   "cell_type": "code",
   "execution_count": null,
   "metadata": {
    "collapsed": true
   },
   "outputs": [],
   "source": [
    "gridArray = np.zeros((5,30))\n",
    "arrayGrid = Image.new('RGB', (gridArray.shape[0]*gridSpacing, gridArray.shape[1]*gridSpacing), 'white')\n",
    "Grid(arrayGrid, gridSpacing)\n",
    "arrayGrid"
   ]
  },
  {
   "cell_type": "code",
   "execution_count": null,
   "metadata": {
    "collapsed": true
   },
   "outputs": [],
   "source": [
    "Grid(width, height, gridSpacing, gridSpacing, image)\n",
    "image"
   ]
  },
  {
   "cell_type": "code",
   "execution_count": null,
   "metadata": {
    "collapsed": true
   },
   "outputs": [],
   "source": [
    "image.save()"
   ]
  },
  {
   "cell_type": "code",
   "execution_count": null,
   "metadata": {
    "collapsed": true
   },
   "outputs": [],
   "source": [
    "import re"
   ]
  },
  {
   "cell_type": "code",
   "execution_count": null,
   "metadata": {
    "collapsed": true
   },
   "outputs": [],
   "source": [
    "#pattern = '\\d+d\\d+(k\\d+)?([\\+|-]\\d)?'\n",
    "pattern = '(?P<Number>\\d+)d(?P<Die>\\d+)(?P<Kept>k\\d+)?(?P<Modifier>[\\+|-]\\d)?'\n",
    "\n",
    "string = '1d20'\n",
    "foo = re.match(pattern, string)\n",
    "foo"
   ]
  },
  {
   "cell_type": "code",
   "execution_count": null,
   "metadata": {
    "collapsed": true
   },
   "outputs": [],
   "source": [
    "foo.groupdict()"
   ]
  },
  {
   "cell_type": "code",
   "execution_count": null,
   "metadata": {
    "collapsed": true
   },
   "outputs": [],
   "source": [
    "int(None)"
   ]
  },
  {
   "cell_type": "code",
   "execution_count": null,
   "metadata": {
    "collapsed": true
   },
   "outputs": [],
   "source": [
    "myDict = foo.groupdict()"
   ]
  },
  {
   "cell_type": "code",
   "execution_count": null,
   "metadata": {
    "collapsed": true
   },
   "outputs": [],
   "source": [
    "'foo' in myDict"
   ]
  },
  {
   "cell_type": "code",
   "execution_count": null,
   "metadata": {
    "collapsed": true
   },
   "outputs": [],
   "source": [
    "myDict['Kept']"
   ]
  },
  {
   "cell_type": "code",
   "execution_count": null,
   "metadata": {
    "collapsed": true
   },
   "outputs": [],
   "source": [
    "foo = 'k1'"
   ]
  },
  {
   "cell_type": "code",
   "execution_count": null,
   "metadata": {
    "collapsed": true,
    "scrolled": true
   },
   "outputs": [],
   "source": [
    "image.paste()"
   ]
  },
  {
   "cell_type": "code",
   "execution_count": null,
   "metadata": {
    "collapsed": true
   },
   "outputs": [],
   "source": [
    "myImage = Image.open('./Discord Bot/Images/NPCs/Xelophehod.png')"
   ]
  },
  {
   "cell_type": "code",
   "execution_count": null,
   "metadata": {
    "collapsed": true
   },
   "outputs": [],
   "source": [
    "myImage.mode"
   ]
  },
  {
   "cell_type": "code",
   "execution_count": null,
   "metadata": {
    "collapsed": true
   },
   "outputs": [],
   "source": [
    "myImage.resize((1200,1200))"
   ]
  },
  {
   "cell_type": "code",
   "execution_count": null,
   "metadata": {
    "collapsed": true
   },
   "outputs": [],
   "source": [
    "gridImage = Image.open('./Discord Bot/Grid.png')\n",
    "gridImage"
   ]
  },
  {
   "cell_type": "code",
   "execution_count": null,
   "metadata": {
    "collapsed": true
   },
   "outputs": [],
   "source": [
    "gridImage.paste(myImage.resize((99,99)), (201,201))"
   ]
  },
  {
   "cell_type": "code",
   "execution_count": null,
   "metadata": {
    "collapsed": true
   },
   "outputs": [],
   "source": [
    "gridImage"
   ]
  },
  {
   "cell_type": "code",
   "execution_count": null,
   "metadata": {
    "collapsed": true
   },
   "outputs": [],
   "source": [
    "gridImage.paste(myImage)"
   ]
  },
  {
   "cell_type": "code",
   "execution_count": null,
   "metadata": {
    "collapsed": true
   },
   "outputs": [],
   "source": [
    "gridImage.close()"
   ]
  },
  {
   "cell_type": "code",
   "execution_count": null,
   "metadata": {
    "collapsed": true
   },
   "outputs": [],
   "source": [
    "myImage.close()"
   ]
  },
  {
   "cell_type": "code",
   "execution_count": null,
   "metadata": {
    "collapsed": true
   },
   "outputs": [],
   "source": [
    "myImage"
   ]
  }
 ],
 "metadata": {
  "anaconda-cloud": {},
  "kernelspec": {
   "display_name": "Python 3",
   "language": "python",
   "name": "python3"
  },
  "language_info": {
   "codemirror_mode": {
    "name": "ipython",
    "version": 3
   },
   "file_extension": ".py",
   "mimetype": "text/x-python",
   "name": "python",
   "nbconvert_exporter": "python",
   "pygments_lexer": "ipython3",
   "version": "3.6.0"
  }
 },
 "nbformat": 4,
 "nbformat_minor": 2
}
