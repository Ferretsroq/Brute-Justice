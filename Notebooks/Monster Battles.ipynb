{
 "cells": [
  {
   "cell_type": "code",
   "execution_count": 1,
   "metadata": {
    "collapsed": true
   },
   "outputs": [],
   "source": [
    "import sys\n",
    "\n",
    "sys.path.append('..')\n",
    "\n",
    "import Characters\n",
    "import Creatures\n",
    "import random\n",
    "import time\n",
    "import skills"
   ]
  },
  {
   "cell_type": "code",
   "execution_count": 8,
   "metadata": {},
   "outputs": [
    {
     "data": {
      "text/plain": [
       "<Stat.Might: 0>"
      ]
     },
     "execution_count": 8,
     "metadata": {},
     "output_type": "execute_result"
    }
   ],
   "source": [
    "Characters.Stat['Might']"
   ]
  },
  {
   "cell_type": "code",
   "execution_count": 10,
   "metadata": {},
   "outputs": [
    {
     "name": "stdout",
     "output_type": "stream",
     "text": [
      "(3, 'Intellect') (0, 'Might')\n",
      "DINGDINGDING! YOUR FIGHTERS ARE:\n",
      "foo: Level 2 Skills ['Intellect Defense', 'Speed Defense', 'Speed Defense', 'Speed Attack', 'Intellect Attack', 'Might Attack', 'Intellect Attack', 'Speed Attack', 'Speed Defense', 'Intellect Attack']\n",
      "bar: Level 10 Skills []\n",
      "***FIGHT!!!***\n",
      "TURN 1\n",
      "-------------------\n",
      "foo attacks bar.\n",
      "Target number: 15\n",
      "bar rolled 12.\n",
      "bar attacks foo.\n",
      "Target number: 30\n",
      "foo rolled 7.\n",
      "foo: -4\n",
      "bar: 28\n"
     ]
    }
   ],
   "source": [
    "fooLevel = random.randint(1,10)\n",
    "barLevel = random.randint(1,10)\n",
    "\n",
    "#possibleSkills = [skills.combatSkills['Might Attack'],\n",
    "#                  skills.combatSkills['Speed Attack'],\n",
    "#                  skills.combatSkills['Intellect Attack'],\n",
    "#                  skills.combatSkills['Might Defense'],\n",
    "#                  skills.combatSkills['Speed Defense'],\n",
    "#                  skills.combatSkills['Intellect Defense']]\n",
    "\n",
    "possibleSkills = ['Might Attack', 'Speed Attack', 'Intellect Attack',\n",
    "                  'Might Defense', 'Speed Defense', 'Intellect Defense']\n",
    "fooSkills = [random.choice(possibleSkills) for x in range(random.randint(0,10))]\n",
    "barSkills = [random.choice(possibleSkills) for x in range(random.randint(0,10))]\n",
    "fooAttackStat = max([(fooSkills.count('Might Attack'), 'Might'), \n",
    "                     (fooSkills.count('Speed Attack'), 'Speed'),\n",
    "                     (fooSkills.count('Intellect Attack'), 'Intellect')], \n",
    "                    key=lambda x: x[0])\n",
    "barAttackStat = max([(barSkills.count('Might Attack'), 'Might'), \n",
    "                     (barSkills.count('Speed Attack'), 'Speed'),\n",
    "                     (barSkills.count('Intellect Attack'), 'Intellect')], \n",
    "                    key=lambda x: x[0])\n",
    "print(fooAttackStat, barAttackStat)\n",
    "#print(fooSkills)\n",
    "#print([skills.isSkill(skill) for skill in fooSkills])\n",
    "turnCounter = 0\n",
    "foo = Creatures.Creature('foo', level=fooLevel, hp=fooLevel*3, inputSkills=fooSkills)\n",
    "bar = Creatures.Creature('bar', level=barLevel, hp=barLevel*3, inputSkills=barSkills)\n",
    "\n",
    "\n",
    "print('DINGDINGDING! YOUR FIGHTERS ARE:\\n{}: Level {} Skills {}\\n{}: Level {} Skills {}\\n***FIGHT!!!***'.format(foo.name, foo.level, foo.skills, bar.name, bar.level, bar.skills))\n",
    "while(not foo.isDead() and not bar.isDead()):\n",
    "    turnCounter += 1\n",
    "    print('TURN {}\\n-------------------'.format(turnCounter))\n",
    "    foo.Attack(bar, stat=Characters.Stat[fooAttackStat[1]])\n",
    "    bar.Attack(foo, stat=Characters.Stat[barAttackStat[1]])\n",
    "    print(\"foo: {}\\nbar: {}\".format(foo.hp, bar.hp))\n",
    "    if(foo.isDead() or bar.isDead()):\n",
    "        break\n",
    "    #time.sleep(5)"
   ]
  },
  {
   "cell_type": "code",
   "execution_count": 21,
   "metadata": {},
   "outputs": [
    {
     "name": "stdout",
     "output_type": "stream",
     "text": [
      "foo attacks bar.\n",
      "Target number: 9\n",
      "bar rolled 1.\n",
      "foo: 9\n",
      "bar: -9\n"
     ]
    }
   ],
   "source": [
    "foo.Attack(bar)\n",
    "print(\"foo: {}\\nbar: {}\".format(foo.hp, bar.hp))"
   ]
  }
 ],
 "metadata": {
  "kernelspec": {
   "display_name": "Python 3",
   "language": "python",
   "name": "python3"
  },
  "language_info": {
   "codemirror_mode": {
    "name": "ipython",
    "version": 3
   },
   "file_extension": ".py",
   "mimetype": "text/x-python",
   "name": "python",
   "nbconvert_exporter": "python",
   "pygments_lexer": "ipython3",
   "version": "3.6.2"
  }
 },
 "nbformat": 4,
 "nbformat_minor": 2
}
