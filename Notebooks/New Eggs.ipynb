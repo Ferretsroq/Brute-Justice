{
 "cells": [
  {
   "cell_type": "code",
   "execution_count": 33,
   "metadata": {
    "collapsed": true
   },
   "outputs": [],
   "source": [
    "import random\n",
    "from PIL import Image\n",
    "import uuid\n",
    "from IPython.display import display\n",
    "import numpy as np\n",
    "import datetime\n",
    "import BruteJusticeSpreadsheets"
   ]
  },
  {
   "cell_type": "code",
   "execution_count": 17,
   "metadata": {
    "collapsed": true
   },
   "outputs": [],
   "source": [
    "class Breedable:\n",
    "    ''' Superclass for any breedable following the rgb stat format'''\n",
    "    def __init__(self, r=0, g=0, b=0, name=''):\n",
    "        # The stats of the breedable are represented as rgb color values\n",
    "        self.r = int(r)\n",
    "        self.g = int(g)\n",
    "        self.b = int(b)\n",
    "        # The breedable has a unique id and an optional name\n",
    "        self.id = uuid.uuid4()\n",
    "        self.name = name\n",
    "    def Breed(self, other):\n",
    "        # Only allow breeding of the same type\n",
    "        if(type(other) != type(self)):\n",
    "            return None\n",
    "        else:\n",
    "            # Convert rgb stats to byte strings\n",
    "            # Python syntax: {:08b} means to format a number into 8 bits with leading zeros if necessary\n",
    "            ownRed = '{:08b}'.format(self.r)\n",
    "            otherRed = '{:08b}'.format(other.r)\n",
    "            ownGreen = '{:08b}'.format(self.g)\n",
    "            otherGreen = '{:08b}'.format(other.g)\n",
    "            ownBlue = '{:08b}'.format(self.b)\n",
    "            otherBlue = '{:08b}'.format(other.b)\n",
    "            newRed = []\n",
    "            newGreen = []\n",
    "            newBlue = []\n",
    "            # Randomly determine which parent's bit goes into the child\n",
    "            for red in range(len(ownRed)):\n",
    "                if(random.randint(0,1)):\n",
    "                    newRed.append(ownRed[red])\n",
    "                else:\n",
    "                    newRed.append(otherRed[red])\n",
    "            for green in range(len(ownGreen)):\n",
    "                if(random.randint(0,1)):\n",
    "                    newGreen.append(ownGreen[green])\n",
    "                else:\n",
    "                    newGreen.append(otherGreen[green])\n",
    "            for blue in range(len(ownBlue)):\n",
    "                if(random.randint(0,1)):\n",
    "                    newBlue.append(ownBlue[blue])\n",
    "                else:\n",
    "                    newBlue.append(otherBlue[blue])\n",
    "            red = int(''.join(newRed), 2)\n",
    "            green = int(''.join(newGreen), 2)\n",
    "            blue = int(''.join(newBlue), 2)\n",
    "            # return a generic breedable. A subclass should convert this appropriately\n",
    "            return Breedable(red, green, blue)\n",
    "        \n",
    "    def New():\n",
    "        # Instantiate a random Breedable\n",
    "        r = random.randint(0,255)\n",
    "        g = random.randint(0,255)\n",
    "        b = random.randint(0,255)\n",
    "        return Breedable(r, g, b)"
   ]
  },
  {
   "cell_type": "code",
   "execution_count": 66,
   "metadata": {
    "collapsed": true
   },
   "outputs": [],
   "source": [
    "class Egg(Breedable):\n",
    "    '''A subclass of Breedable for dinosaur Eggs'''\n",
    "    def __init__(self, r=0, g=0, b=0, name='', index=-1):\n",
    "        # Create a normal Breedable with personality traits\n",
    "        super(Egg, self).__init__(r,g,b,name)\n",
    "        # Call disposition based on genes\n",
    "        self.aggression, self.energy, self.friendliness = self.Disposition()\n",
    "        # If the Egg has no name, name it after its ID\n",
    "        # This can be reassigned as needed\n",
    "        if(name != ''):\n",
    "            self.name = name\n",
    "        else:\n",
    "            self.name = str(self.id)\n",
    "        self.timestamp = datetime.datetime.now()\n",
    "        self.index = index\n",
    "    def __repr__(self):\n",
    "        # Display the egg's information\n",
    "        display(self.Show())\n",
    "        text = \"Name: {}\\nID: {}\\nr: {}\\ng: {}\\nb: {}\\n\".format(self.name, self.id, self.r, self.g, self.b)\n",
    "        text += \"I have {} aggression, {} energy, and {} friendliness!\\n\".format(self.aggression, self.energy, self.friendliness)\n",
    "        text += \"I'm of the species {}!\".format(self.Species())\n",
    "        return text\n",
    "    \n",
    "    def Show(self):\n",
    "        # Show own stats as an image\n",
    "        return Image.new(mode='RGB', size=(100,100), color=(self.r, self.g, self.b))\n",
    "    \n",
    "    def NewFromBreedable(breedable):\n",
    "        # Take a generic Breedable and convert to an Egg\n",
    "        r = breedable.r\n",
    "        g = breedable.g\n",
    "        b = breedable.b\n",
    "        egg = Egg(r, g, b)\n",
    "        egg.id = breedable.id\n",
    "        return egg\n",
    "        \n",
    "    def Breed(self, other):\n",
    "        # Breed with another Egg\n",
    "        return Egg.NewFromBreedable(super(Egg, self).Breed(other))\n",
    "\n",
    "    def New():\n",
    "        # Create a new random Egg\n",
    "        r = random.randint(0,255)\n",
    "        g = random.randint(0,255)\n",
    "        b = random.randint(0,255)\n",
    "        return Egg(r, g, b)\n",
    "    \n",
    "    def Disposition(self):\n",
    "        ''' Determine personality traits based off genetics.\n",
    "            The cutoffs here are purely arbitrary.'''\n",
    "        # Red\n",
    "        if(self.r > 200):\n",
    "            aggression = 'High'\n",
    "        elif(self.r > 100):\n",
    "            aggression = 'Medium'\n",
    "        else:\n",
    "            aggression = 'Low'\n",
    "            \n",
    "        # Green\n",
    "        if(self.g > 200):\n",
    "            energy = 'High'\n",
    "        elif(self.g > 100):\n",
    "            energy = 'Medium'\n",
    "        else:\n",
    "            energy = 'Low'\n",
    "            \n",
    "        # Blue\n",
    "        if(self.b > 200):\n",
    "            friendliness = 'High'\n",
    "        elif(self.b > 100):\n",
    "            friendliness = 'Medium'\n",
    "        else:\n",
    "            friendliness = 'Low'\n",
    "        return aggression, energy, friendliness\n",
    "    def Species(self):\n",
    "        '''Determine species based off genetics.\n",
    "        The cutoffs here are purely arbitrary.\n",
    "        Different species may still breed, it is just a text change.'''\n",
    "        if(self.r == 255 and self.g == 255 and self.b == 255):\n",
    "            species = 'Dragon'\n",
    "        elif(self.r == 0 and self.g == 0 and self.b == 0):\n",
    "            species = 'Primordial Goo'\n",
    "        elif(self.aggression == 'High' and self.energy == 'High'):\n",
    "            species = 'Velociraptor'\n",
    "        elif(self.aggression == 'High' and self.energy == 'Medium'):\n",
    "            species = 'Tyrannosaurus Rex'\n",
    "        elif(self.aggression == 'High' and self.energy == 'Low'):\n",
    "            species = 'Floating Shark'\n",
    "        elif(self.aggression == 'Medium' and self.energy == 'High'):\n",
    "            species = 'Pterodactyl'\n",
    "        elif(self.aggression == 'Medium' and self.energy == 'Medium'):\n",
    "            species = 'Ankylosaurus'\n",
    "        elif(self.aggression == 'Medium' and self.energy == 'Low'):\n",
    "            species = 'Snake'\n",
    "        elif(self.aggression == 'Low' and self.energy == 'High'):\n",
    "            species = 'Triceratops'\n",
    "        elif(self.aggression == 'Low' and self.energy == 'Medium'):\n",
    "            species = 'Sauropod'\n",
    "        elif(self.aggression == 'Low' and self.energy == 'Low'):\n",
    "            species = 'Dragon Turtle'\n",
    "        else:\n",
    "            species = 'Primordial Goo'\n",
    "        return species\n",
    "    def Hatch(self):\n",
    "        dino = Dinosaur(self.r, self.g, self.b)\n",
    "        dino.id = self.id\n",
    "        return dino\n",
    "    "
   ]
  },
  {
   "cell_type": "code",
   "execution_count": 24,
   "metadata": {
    "collapsed": false
   },
   "outputs": [],
   "source": [
    "starter = Egg(69, 217, 42)"
   ]
  },
  {
   "cell_type": "code",
   "execution_count": 25,
   "metadata": {
    "collapsed": true
   },
   "outputs": [],
   "source": [
    "rival = Egg(62, 12, 242)"
   ]
  },
  {
   "cell_type": "code",
   "execution_count": 26,
   "metadata": {
    "collapsed": false,
    "scrolled": true
   },
   "outputs": [
    {
     "data": {
      "image/png": "[encoded data removed]",
      "text/plain": [
       "<PIL.Image.Image image mode=RGB size=100x100 at 0x10E1546D8>"
      ]
     },
     "metadata": {},
     "output_type": "display_data"
    },
    {
     "data": {
      "text/plain": [
       "Name:\n",
       "ID:9595d969-763a-4873-a29c-9ca0467c7c09\n",
       "r: 69\n",
       "g: 217\n",
       "b: 42\n",
       "I have Low aggression, High energy, and Low friendliness!\n",
       "I'm of the species Triceratops!"
      ]
     },
     "execution_count": 26,
     "metadata": {},
     "output_type": "execute_result"
    }
   ],
   "source": [
    "starter"
   ]
  },
  {
   "cell_type": "code",
   "execution_count": 7,
   "metadata": {
    "collapsed": false,
    "scrolled": true
   },
   "outputs": [
    {
     "data": {
      "image/png": "[encoded data removed]",
      "text/plain": [
       "<PIL.Image.Image image mode=RGB size=100x100 at 0x10DB1BF28>"
      ]
     },
     "metadata": {},
     "output_type": "display_data"
    },
    {
     "data": {
      "text/plain": [
       "ID:48a0f89a-6826-4efe-bb9d-a341843e5511\n",
       "r: 62\n",
       "g: 12\n",
       "b: 242\n",
       "I have Low aggression, Low energy, and High friendliness!\n",
       "I'm of the species Dragon Turtle!"
      ]
     },
     "execution_count": 7,
     "metadata": {},
     "output_type": "execute_result"
    }
   ],
   "source": [
    "rival"
   ]
  },
  {
   "cell_type": "code",
   "execution_count": 12,
   "metadata": {
    "collapsed": true
   },
   "outputs": [],
   "source": [
    "eggs = [rival.Breed(starter) for x in range(1000)]"
   ]
  },
  {
   "cell_type": "code",
   "execution_count": 85,
   "metadata": {
    "collapsed": true
   },
   "outputs": [],
   "source": [
    "reds = []\n",
    "greens = []\n",
    "blues = []\n",
    "for egg in eggs:\n",
    "    reds.append(egg.r)\n",
    "    greens.append(egg.g)\n",
    "    blues.append(egg.b)"
   ]
  },
  {
   "cell_type": "code",
   "execution_count": 18,
   "metadata": {
    "collapsed": false,
    "scrolled": true
   },
   "outputs": [
    {
     "name": "stdout",
     "output_type": "stream",
     "text": [
      "{'Pterodactyl': 8492, 'Dragon Turtle': 15402, 'Sauropod': 15457, 'Snake': 15408, 'Tyrannosaurus Rex': 8184, 'Velociraptor': 4661, 'Ankylosaurus': 15385, 'Triceratops': 8426, 'Floating Shark': 8576}\n"
     ]
    }
   ],
   "source": [
    "eggs = [Egg.New() for x in range(100000)]\n",
    "speciesDict = {}\n",
    "for egg in eggs:\n",
    "    if(egg.Species() in speciesDict):\n",
    "        speciesDict[egg.Species()] += 1\n",
    "    else:\n",
    "        speciesDict[egg.Species()] = 0\n",
    "print(speciesDict)"
   ]
  },
  {
   "cell_type": "code",
   "execution_count": 8,
   "metadata": {
    "collapsed": false
   },
   "outputs": [],
   "source": [
    "import BruteJusticeSpreadsheets"
   ]
  },
  {
   "cell_type": "code",
   "execution_count": 9,
   "metadata": {
    "collapsed": false
   },
   "outputs": [
    {
     "data": {
      "text/plain": [
       "[['7903174f-bf02-4815-bb62-04037f0a5e04'],\n",
       " ['90cc4349-3492-4e41-a383-073ab515f24f']]"
      ]
     },
     "execution_count": 9,
     "metadata": {},
     "output_type": "execute_result"
    }
   ],
   "source": [
    "sheetID = '14t3Rm5JwswRvJRgx7qxNfliX0i6cJNfCGpnLTOj2fCQ'\n",
    "BruteJusticeSpreadsheets.ReadSpreadsheet('ID', sheetID)"
   ]
  },
  {
   "cell_type": "code",
   "execution_count": 34,
   "metadata": {
    "collapsed": true
   },
   "outputs": [],
   "source": [
    "def StoreEgg(egg):\n",
    "    IDs = BruteJusticeSpreadsheets.ReadSpreadsheet('ID', sheetID)\n",
    "    if([str(egg.id)] not in IDs):\n",
    "        BruteJusticeSpreadsheets.WriteSpreadsheet(sheetID, cell='A'+str(len(IDs)+1), value=str(egg.id))\n",
    "        BruteJusticeSpreadsheets.WriteSpreadsheet(sheetID, cell='B'+str(len(IDs)+1), value=str((egg.r, egg.g, egg.b)))\n",
    "        BruteJusticeSpreadsheets.WriteSpreadsheet(sheetID, cell='C'+str(len(IDs)+1), value=str(egg.timestamp))\n",
    "        BruteJusticeSpreadsheets.WriteSpreadsheet(sheetID, cell='D'+str(len(IDs)+1), value=str(egg.name))\n",
    "        BruteJusticeSpreadsheets.WriteSpreadsheet(sheetID, cell='E'+str(len(IDs)+1), value=len(IDs)+1)"
   ]
  },
  {
   "cell_type": "code",
   "execution_count": 36,
   "metadata": {
    "collapsed": true
   },
   "outputs": [],
   "source": [
    "def RetrieveEgg(ID, name=False):\n",
    "    if(not name):\n",
    "        IDs = BruteJusticeSpreadsheets.ReadSpreadsheet('ID', sheetID)\n",
    "        if([str(ID)] not in IDs):\n",
    "            print('Egg not found.')\n",
    "            return None\n",
    "        else:\n",
    "            rgbString = BruteJusticeSpreadsheets.ReadSpreadsheet('rgb', sheetID)[IDs.index([ID])][0]\n",
    "            rgb = [int(x) for x in rgbString.replace('(', '').replace(',','').replace(')', '').split()]\n",
    "            timestamp = BruteJusticeSpreadsheets.ReadSpreadsheet('timestamp', sheetID)[IDs.index([ID])]\n",
    "            egg = Egg(rgb[0], rgb[1], rgb[2])\n",
    "            egg.id = ID\n",
    "            egg.name = BruteJusticeSpreadsheets.ReadSpreadsheet('name', sheetID)[IDs.index([ID])]\n",
    "            egg.timestamp = timestamp\n",
    "            egg.index = IDs.index([ID])\n",
    "            return egg\n",
    "    else:\n",
    "        names = BruteJusticeSpreadsheets.ReadSpreadsheet('name', sheetID)\n",
    "        if([str(ID)] not in names):\n",
    "            print('Egg not found.')\n",
    "            return None\n",
    "        else:\n",
    "            rgbString = BruteJusticeSpreadsheets.ReadSpreadsheet('rgb', sheetID)[names.index([ID])][0]\n",
    "            rgb = [int(x) for x in rgbString.replace('(', '').replace(',','').replace(')', '').split()]\n",
    "            timestamp = BruteJusticeSpreadsheets.ReadSpreadsheet('timestamp', sheetID)[names.index([ID])]\n",
    "            egg = Egg(rgb[0], rgb[1], rgb[2])\n",
    "            egg.id = BruteJusticeSpreadsheets.ReadSpreadsheet('ID', sheetID)[names.index([ID])]\n",
    "            egg.name = ID\n",
    "            egg.timestamp = timestamp\n",
    "            egg.index = IDs.index([ID])\n",
    "            return egg"
   ]
  },
  {
   "cell_type": "code",
   "execution_count": 81,
   "metadata": {
    "collapsed": false
   },
   "outputs": [],
   "source": [
    "def RetrieveEggByIndex(index):\n",
    "    row = BruteJusticeSpreadsheets.ReadSpreadsheet('A{}:{}'.format(index+1,index+1), sheetID)\n",
    "    if(row):\n",
    "        rgb = [int(x) for x in row[0][1].replace('(', '').replace(',','').replace(')', '').split()]\n",
    "        egg = Egg(rgb[0], rgb[1], rgb[2], name=row[0][3], index = index)\n",
    "        egg.id = uuid.UUID(row[0][0])\n",
    "        egg.timestamp = row[0][2]\n",
    "        if(row[0][3] == ''):\n",
    "            egg.name = egg.id\n",
    "        return egg\n",
    "    else:\n",
    "        return None"
   ]
  },
  {
   "cell_type": "code",
   "execution_count": 87,
   "metadata": {
    "collapsed": true
   },
   "outputs": [],
   "source": [
    "def RetrieveEggByName(name):\n",
    "    names = BruteJusticeSpreadsheets.ReadSpreadsheet('name', sheetID)\n",
    "    if([name] not in names):\n",
    "        print('Egg {} not found.'.format(name))\n",
    "        return None\n",
    "    else:\n",
    "        row = BruteJusticeSpreadsheets.ReadSpreadsheet('A{}:{}'.format(names.index([name])+1,names.index([name])+1), sheetID)\n",
    "        if(row):\n",
    "            rgb = [int(x) for x in row[0][1].replace('(', '').replace(',','').replace(')', '').split()]\n",
    "            egg = Egg(rgb[0], rgb[1], rgb[2], name=row[0][3], index = row[0][-1])\n",
    "            egg.id = uuid.UUID(row[0][0])\n",
    "            egg.timestamp = row[0][2]\n",
    "            if(row[0][3] == ''):\n",
    "                egg.name = egg.id\n",
    "            return egg\n",
    "        else:\n",
    "            return None"
   ]
  },
  {
   "cell_type": "code",
   "execution_count": 88,
   "metadata": {
    "collapsed": false
   },
   "outputs": [
    {
     "data": {
      "image/png": "[encoded data removed]",
      "text/plain": [
       "<PIL.Image.Image image mode=RGB size=100x100 at 0x10E450908>"
      ]
     },
     "metadata": {},
     "output_type": "display_data"
    },
    {
     "data": {
      "text/plain": [
       "Name: Bulbasaur\n",
       "ID: 7903174f-bf02-4815-bb62-04037f0a5e04\n",
       "r: 69\n",
       "g: 217\n",
       "b: 42\n",
       "I have Low aggression, High energy, and Low friendliness!\n",
       "I'm of the species Triceratops!"
      ]
     },
     "execution_count": 88,
     "metadata": {},
     "output_type": "execute_result"
    }
   ],
   "source": [
    "RetrieveEggByName('Bulbasaur')"
   ]
  },
  {
   "cell_type": "code",
   "execution_count": 82,
   "metadata": {
    "collapsed": false,
    "scrolled": true
   },
   "outputs": [
    {
     "data": {
      "image/png": "[encoded data removed]",
      "text/plain": [
       "<PIL.Image.Image image mode=RGB size=100x100 at 0x10E1548D0>"
      ]
     },
     "metadata": {},
     "output_type": "display_data"
    },
    {
     "data": {
      "text/plain": [
       "Name: 889c1aeb-b30a-4dad-b9e2-b9235f6d3b43\n",
       "ID: 889c1aeb-b30a-4dad-b9e2-b9235f6d3b43\n",
       "r: 133\n",
       "g: 6\n",
       "b: 203\n",
       "I have Medium aggression, Low energy, and High friendliness!\n",
       "I'm of the species Snake!"
      ]
     },
     "execution_count": 82,
     "metadata": {},
     "output_type": "execute_result"
    }
   ],
   "source": [
    "RetrieveEggByIndex(2)"
   ]
  },
  {
   "cell_type": "code",
   "execution_count": 57,
   "metadata": {
    "collapsed": false
   },
   "outputs": [],
   "source": [
    "foo = uuid.uuid4()"
   ]
  },
  {
   "cell_type": "code",
   "execution_count": 59,
   "metadata": {
    "collapsed": false
   },
   "outputs": [
    {
     "data": {
      "text/plain": [
       "UUID('7903174f-bf02-4815-bb62-04037f0a5e04')"
      ]
     },
     "execution_count": 59,
     "metadata": {},
     "output_type": "execute_result"
    }
   ],
   "source": [
    "uuid.UUID('7903174f-bf02-4815-bb62-04037f0a5e04')"
   ]
  },
  {
   "cell_type": "code",
   "execution_count": 54,
   "metadata": {
    "collapsed": false
   },
   "outputs": [
    {
     "name": "stdout",
     "output_type": "stream",
     "text": [
      "[['7903174f-bf02-4815-bb62-04037f0a5e04', '(69, 217, 42)', '2018-03-28 20:15:08', 'Bulbasaur', '0']]\n"
     ]
    }
   ],
   "source": [
    "RetrieveEggByIndex(0)"
   ]
  },
  {
   "cell_type": "code",
   "execution_count": null,
   "metadata": {
    "collapsed": true
   },
   "outputs": [],
   "source": []
  },
  {
   "cell_type": "code",
   "execution_count": 106,
   "metadata": {
    "collapsed": true
   },
   "outputs": [],
   "source": [
    "rgbString = BruteJusticeSpreadsheets.ReadSpreadsheet('rgb', sheetID)[0][0]"
   ]
  },
  {
   "cell_type": "code",
   "execution_count": 107,
   "metadata": {
    "collapsed": false
   },
   "outputs": [
    {
     "data": {
      "text/plain": [
       "'(69, 217, 42)'"
      ]
     },
     "execution_count": 107,
     "metadata": {},
     "output_type": "execute_result"
    }
   ],
   "source": [
    "rgbString"
   ]
  },
  {
   "cell_type": "code",
   "execution_count": 29,
   "metadata": {
    "collapsed": false,
    "scrolled": true
   },
   "outputs": [
    {
     "data": {
      "image/png": "[encoded data removed]",
      "text/plain": [
       "<PIL.Image.Image image mode=RGB size=100x100 at 0x10E0B8E48>"
      ]
     },
     "metadata": {},
     "output_type": "display_data"
    },
    {
     "data": {
      "text/plain": [
       "Name: Bulbasaur\n",
       "ID: ['7903174f-bf02-4815-bb62-04037f0a5e04']\n",
       "r: 69\n",
       "g: 217\n",
       "b: 42\n",
       "I have Low aggression, High energy, and Low friendliness!\n",
       "I'm of the species Triceratops!"
      ]
     },
     "execution_count": 29,
     "metadata": {},
     "output_type": "execute_result"
    }
   ],
   "source": [
    "RetrieveEgg('Bulbasaur', name=True)"
   ]
  },
  {
   "cell_type": "code",
   "execution_count": 30,
   "metadata": {
    "collapsed": true
   },
   "outputs": [],
   "source": [
    "StoreEgg(Egg.New())"
   ]
  },
  {
   "cell_type": "code",
   "execution_count": 31,
   "metadata": {
    "collapsed": false
   },
   "outputs": [
    {
     "data": {
      "text/plain": [
       "[['Bulbasaur'], ['Squirtle']]"
      ]
     },
     "execution_count": 31,
     "metadata": {},
     "output_type": "execute_result"
    }
   ],
   "source": [
    "names = BruteJusticeSpreadsheets.ReadSpreadsheet('name', sheetID)\n",
    "names"
   ]
  },
  {
   "cell_type": "code",
   "execution_count": 83,
   "metadata": {
    "collapsed": false
   },
   "outputs": [
    {
     "data": {
      "text/plain": [
       "[['(69, 217, 42)'], ['(62, 12, 242)']]"
      ]
     },
     "execution_count": 83,
     "metadata": {},
     "output_type": "execute_result"
    }
   ],
   "source": [
    "rgb.index()"
   ]
  },
  {
   "cell_type": "code",
   "execution_count": 68,
   "metadata": {
    "collapsed": true
   },
   "outputs": [],
   "source": [
    "rgb = BruteJusticeSpreadsheets.ReadSpreadsheet('rgb', sheetID)"
   ]
  },
  {
   "cell_type": "code",
   "execution_count": 82,
   "metadata": {
    "collapsed": false
   },
   "outputs": [
    {
     "data": {
      "text/plain": [
       "[69, 217, 42]"
      ]
     },
     "execution_count": 82,
     "metadata": {},
     "output_type": "execute_result"
    }
   ],
   "source": [
    "[int(x) for x in rgb[0][0].replace('(', '').replace(',','').replace(')', '').split()]"
   ]
  },
  {
   "cell_type": "code",
   "execution_count": 67,
   "metadata": {
    "collapsed": false
   },
   "outputs": [],
   "source": [
    "StoreEgg(starter)\n",
    "StoreEgg(rival)"
   ]
  },
  {
   "cell_type": "code",
   "execution_count": 57,
   "metadata": {
    "collapsed": false
   },
   "outputs": [
    {
     "data": {
      "text/plain": [
       "UUID('109a9530-614e-4289-81ae-6fad644ff28c')"
      ]
     },
     "execution_count": 57,
     "metadata": {},
     "output_type": "execute_result"
    }
   ],
   "source": [
    "starter.id"
   ]
  },
  {
   "cell_type": "code",
   "execution_count": 58,
   "metadata": {
    "collapsed": false
   },
   "outputs": [
    {
     "data": {
      "text/plain": [
       "UUID('850a124c-381c-4a42-a051-e2b4495cad6b')"
      ]
     },
     "execution_count": 58,
     "metadata": {},
     "output_type": "execute_result"
    }
   ],
   "source": [
    "rival.id"
   ]
  },
  {
   "cell_type": "code",
   "execution_count": 30,
   "metadata": {
    "collapsed": true
   },
   "outputs": [],
   "source": [
    "foo = time.localtime()"
   ]
  },
  {
   "cell_type": "code",
   "execution_count": 56,
   "metadata": {
    "collapsed": true
   },
   "outputs": [],
   "source": [
    "import datetime"
   ]
  },
  {
   "cell_type": "code",
   "execution_count": 59,
   "metadata": {
    "collapsed": false
   },
   "outputs": [
    {
     "data": {
      "text/plain": [
       "'2018-03-28 20:14:41.594253'"
      ]
     },
     "execution_count": 59,
     "metadata": {},
     "output_type": "execute_result"
    }
   ],
   "source": [
    "str(datetime.datetime.now())"
   ]
  },
  {
   "cell_type": "code",
   "execution_count": 43,
   "metadata": {
    "collapsed": false
   },
   "outputs": [
    {
     "data": {
      "text/plain": [
       "time.struct_time(tm_year=2018, tm_mon=3, tm_mday=28, tm_hour=20, tm_min=7, tm_sec=24, tm_wday=2, tm_yday=87, tm_isdst=1)"
      ]
     },
     "execution_count": 43,
     "metadata": {},
     "output_type": "execute_result"
    }
   ],
   "source": [
    "foo"
   ]
  },
  {
   "cell_type": "code",
   "execution_count": 44,
   "metadata": {
    "collapsed": false
   },
   "outputs": [
    {
     "data": {
      "text/plain": [
       "(2018, 3, 28)"
      ]
     },
     "execution_count": 44,
     "metadata": {},
     "output_type": "execute_result"
    }
   ],
   "source": [
    "foo.tm_year, foo.tm_mon, foo.tm_mday"
   ]
  },
  {
   "cell_type": "code",
   "execution_count": 48,
   "metadata": {
    "collapsed": false
   },
   "outputs": [
    {
     "data": {
      "text/plain": [
       "'20180328_200724'"
      ]
     },
     "execution_count": 48,
     "metadata": {},
     "output_type": "execute_result"
    }
   ],
   "source": [
    "'{}{:02}{:02}_{:02}{:02}{:02}'.format(foo.tm_year, foo.tm_mon, foo.tm_mday, foo.tm_hour, foo.tm_min, foo.tm_sec)"
   ]
  }
 ],
 "metadata": {
  "anaconda-cloud": {},
  "kernelspec": {
   "display_name": "Python 3",
   "language": "python",
   "name": "python3"
  },
  "language_info": {
   "codemirror_mode": {
    "name": "ipython",
    "version": 3
   },
   "file_extension": ".py",
   "mimetype": "text/x-python",
   "name": "python",
   "nbconvert_exporter": "python",
   "pygments_lexer": "ipython3",
   "version": "3.6.0"
  }
 },
 "nbformat": 4,
 "nbformat_minor": 2
}
