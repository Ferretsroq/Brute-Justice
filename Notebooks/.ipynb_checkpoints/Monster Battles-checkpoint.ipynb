{
 "cells": [
  {
   "cell_type": "code",
   "execution_count": 47,
   "metadata": {
    "collapsed": true
   },
   "outputs": [],
   "source": [
    "import sys\n",
    "\n",
    "sys.path.append('..')\n",
    "\n",
    "import Characters\n",
    "import Creatures\n",
    "import random\n",
    "import time\n",
    "import skills"
   ]
  },
  {
   "cell_type": "code",
   "execution_count": 48,
   "metadata": {},
   "outputs": [
    {
     "data": {
      "text/plain": [
       "<Stat.Speed: 1>"
      ]
     },
     "execution_count": 48,
     "metadata": {},
     "output_type": "execute_result"
    }
   ],
   "source": [
    "skills.Stat(1)"
   ]
  },
  {
   "cell_type": "code",
   "execution_count": 49,
   "metadata": {},
   "outputs": [
    {
     "ename": "TypeError",
     "evalue": "__init__() got an unexpected keyword argument 'skills'",
     "output_type": "error",
     "traceback": [
      "\u001b[1;31m---------------------------------------------------------------------------\u001b[0m",
      "\u001b[1;31mTypeError\u001b[0m                                 Traceback (most recent call last)",
      "\u001b[1;32m<ipython-input-49-6b30b6dab903>\u001b[0m in \u001b[0;36m<module>\u001b[1;34m()\u001b[0m\n\u001b[0;32m     12\u001b[0m \u001b[1;33m\u001b[0m\u001b[0m\n\u001b[0;32m     13\u001b[0m \u001b[0mturnCounter\u001b[0m \u001b[1;33m=\u001b[0m \u001b[1;36m0\u001b[0m\u001b[1;33m\u001b[0m\u001b[0m\n\u001b[1;32m---> 14\u001b[1;33m \u001b[0mfoo\u001b[0m \u001b[1;33m=\u001b[0m \u001b[0mCreatures\u001b[0m\u001b[1;33m.\u001b[0m\u001b[0mCreature\u001b[0m\u001b[1;33m(\u001b[0m\u001b[1;34m'foo'\u001b[0m\u001b[1;33m,\u001b[0m \u001b[0mlevel\u001b[0m\u001b[1;33m=\u001b[0m\u001b[0mfooLevel\u001b[0m\u001b[1;33m,\u001b[0m \u001b[0mhp\u001b[0m\u001b[1;33m=\u001b[0m\u001b[0mfooLevel\u001b[0m\u001b[1;33m*\u001b[0m\u001b[1;36m3\u001b[0m\u001b[1;33m,\u001b[0m \u001b[0mskills\u001b[0m\u001b[1;33m=\u001b[0m\u001b[0mfooSkills\u001b[0m\u001b[1;33m)\u001b[0m\u001b[1;33m\u001b[0m\u001b[0m\n\u001b[0m\u001b[0;32m     15\u001b[0m \u001b[0mbar\u001b[0m \u001b[1;33m=\u001b[0m \u001b[0mCreatures\u001b[0m\u001b[1;33m.\u001b[0m\u001b[0mCreature\u001b[0m\u001b[1;33m(\u001b[0m\u001b[1;34m'bar'\u001b[0m\u001b[1;33m,\u001b[0m \u001b[0mlevel\u001b[0m\u001b[1;33m=\u001b[0m\u001b[0mbarLevel\u001b[0m\u001b[1;33m,\u001b[0m \u001b[0mhp\u001b[0m\u001b[1;33m=\u001b[0m\u001b[0mbarLevel\u001b[0m\u001b[1;33m*\u001b[0m\u001b[1;36m3\u001b[0m\u001b[1;33m,\u001b[0m \u001b[0mskills\u001b[0m\u001b[1;33m=\u001b[0m\u001b[0mbarSkills\u001b[0m\u001b[1;33m)\u001b[0m\u001b[1;33m\u001b[0m\u001b[0m\n\u001b[0;32m     16\u001b[0m \u001b[1;33m\u001b[0m\u001b[0m\n",
      "\u001b[1;31mTypeError\u001b[0m: __init__() got an unexpected keyword argument 'skills'"
     ]
    }
   ],
   "source": [
    "fooLevel = random.randint(1,10)\n",
    "barLevel = random.randint(1,10)\n",
    "\n",
    "possibleSkills = [skills.combatSkills['Might Attack'],\n",
    "                  skills.combatSkills['Speed Attack'],\n",
    "                  skills.combatSkills['Intellect Attack'],\n",
    "                  skills.combatSkills['Might Defense'],\n",
    "                  skills.combatSkills['Speed Defense'],\n",
    "                  skills.combatSkills['Intellect Defense']]\n",
    "fooSkills = [random.choice(possibleSkills) for x in range(random.randint(0,3))]\n",
    "barSkills = [random.choice(possibleSkills) for x in range(random.randint(0,3))]\n",
    "\n",
    "turnCounter = 0\n",
    "foo = Creatures.Creature('foo', level=fooLevel, hp=fooLevel*3, inputSkills=fooSkills)\n",
    "bar = Creatures.Creature('bar', level=barLevel, hp=barLevel*3, inputSkills=barSkills)\n",
    "\n",
    "\n",
    "print('DINGDINGDING! YOUR FIGHTERS ARE:\\n{}: Level {} Skills {}\\n{}: Level {} Skills {}\\n***FIGHT!!!***'.format(foo.name, foo.level, foo.skills, bar.name, bar.level, bar.skills))\n",
    "while(not foo.isDead() and not bar.isDead()):\n",
    "    turnCounter += 1\n",
    "    print('TURN {}\\n-------------------'.format(turnCounter))\n",
    "    foo.Attack(bar)\n",
    "    bar.Attack(foo)\n",
    "    print(\"foo: {}\\nbar: {}\".format(foo.hp, bar.hp))\n",
    "    if(foo.isDead() or bar.isDead()):\n",
    "        break\n",
    "    time.sleep(5)"
   ]
  },
  {
   "cell_type": "code",
   "execution_count": 21,
   "metadata": {},
   "outputs": [
    {
     "name": "stdout",
     "output_type": "stream",
     "text": [
      "foo attacks bar.\n",
      "Target number: 9\n",
      "bar rolled 1.\n",
      "foo: 9\n",
      "bar: -9\n"
     ]
    }
   ],
   "source": [
    "foo.Attack(bar)\n",
    "print(\"foo: {}\\nbar: {}\".format(foo.hp, bar.hp))"
   ]
  }
 ],
 "metadata": {
  "kernelspec": {
   "display_name": "Python 3",
   "language": "python",
   "name": "python3"
  },
  "language_info": {
   "codemirror_mode": {
    "name": "ipython",
    "version": 3
   },
   "file_extension": ".py",
   "mimetype": "text/x-python",
   "name": "python",
   "nbconvert_exporter": "python",
   "pygments_lexer": "ipython3",
   "version": "3.6.2"
  }
 },
 "nbformat": 4,
 "nbformat_minor": 2
}
