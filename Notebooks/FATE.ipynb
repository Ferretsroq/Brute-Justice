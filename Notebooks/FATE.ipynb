{
 "cells": [
  {
   "cell_type": "code",
   "execution_count": 1,
   "metadata": {
    "collapsed": true
   },
   "outputs": [],
   "source": [
    "from enum import Enum"
   ]
  },
  {
   "cell_type": "code",
   "execution_count": 2,
   "metadata": {
    "collapsed": true
   },
   "outputs": [],
   "source": [
    "class AspectType(Enum):\n",
    "    SETTING = 0\n",
    "    SCENE = 1\n",
    "    PLAYER = 2\n",
    "    NPC = 3"
   ]
  },
  {
   "cell_type": "code",
   "execution_count": 3,
   "metadata": {
    "collapsed": true
   },
   "outputs": [],
   "source": [
    "class Aspect:\n",
    "    def __init__(self, Type=0, name='', free=0):\n",
    "        self.type = AspectType(Type)\n",
    "        self.name = name\n",
    "        self.invokes = 0\n",
    "        self.free = free\n",
    "    def __repr__(self):\n",
    "        return '{}\\n{} Aspect'.format(self.name, self.type.name)"
   ]
  },
  {
   "cell_type": "code",
   "execution_count": 4,
   "metadata": {
    "collapsed": true
   },
   "outputs": [],
   "source": [
    "class Scene:\n",
    "    def __init__(self, name='', aspects = []):\n",
    "        self.name = name\n",
    "        self.aspects = aspects\n",
    "    def __repr__(self):\n",
    "        return self.name+'\\n'+'\\n'.join(self.aspects)"
   ]
  },
  {
   "cell_type": "code",
   "execution_count": 5,
   "metadata": {
    "collapsed": true
   },
   "outputs": [],
   "source": [
    "class GameState:\n",
    "    def __init__(self):\n",
    "        self.scene = None\n",
    "        self.aspects = None\n",
    "    def NewScene(self, name='', aspects=[]):\n",
    "        self.scene = Scene(name, aspects)\n",
    "    def ShowScene(self):\n",
    "        print(self.scene)"
   ]
  },
  {
   "cell_type": "code",
   "execution_count": 6,
   "metadata": {
    "collapsed": false
   },
   "outputs": [
    {
     "name": "stdout",
     "output_type": "stream",
     "text": [
      "Clash With a Kaiju\n",
      "Buildings on Fire\n",
      "Lightning Storm\n",
      "Kidnapped President\n"
     ]
    }
   ],
   "source": [
    "state = GameState()\n",
    "state.NewScene('Clash With a Kaiju', ['Buildings on Fire', 'Lightning Storm', 'Kidnapped President'])\n",
    "state.ShowScene()"
   ]
  },
  {
   "cell_type": "code",
   "execution_count": 7,
   "metadata": {
    "collapsed": false
   },
   "outputs": [
    {
     "data": {
      "text/plain": [
       "Clash With a Kaiju\n",
       "Buildings on Fire\n",
       "Lightning Storm\n",
       "Kidnapped President"
      ]
     },
     "execution_count": 7,
     "metadata": {},
     "output_type": "execute_result"
    }
   ],
   "source": [
    "state.scene"
   ]
  },
  {
   "cell_type": "code",
   "execution_count": 9,
   "metadata": {
    "collapsed": false
   },
   "outputs": [
    {
     "data": {
      "text/plain": [
       "Secret Moon Nazi Warehouse\n",
       "Broken Glass\n",
       "Moon Lasers"
      ]
     },
     "execution_count": 9,
     "metadata": {},
     "output_type": "execute_result"
    }
   ],
   "source": [
    "Scene('Secret Moon Nazi Warehouse', ['Broken Glass', 'Moon Lasers'])"
   ]
  },
  {
   "cell_type": "code",
   "execution_count": 9,
   "metadata": {
    "collapsed": true
   },
   "outputs": [],
   "source": [
    "class Character:\n",
    "    def __init__(self, name='', \n",
    "                 highConcept=Aspect(), \n",
    "                 trouble=Aspect(), \n",
    "                 aspect1=Aspect(), \n",
    "                 aspect2=Aspect(), \n",
    "                 aspect3=Aspect(),\n",
    "                 careful=0,\n",
    "                 clever=0,\n",
    "                 flashy=0,\n",
    "                 forceful=0,\n",
    "                 quick=0,\n",
    "                 sneaky=0,\n",
    "                 stunts=[]):\n",
    "        self.name = name\n",
    "        self.highConcept = highConcept\n",
    "        self.trouble = trouble\n",
    "        self.aspect1 = aspect1\n",
    "        self.aspect2 = aspect2\n",
    "        self.aspect3 = aspect3\n",
    "        self.aspects = {self.highConcept.name : self.highConcept, \n",
    "                        self.trouble.name : self.trouble, \n",
    "                        self.aspect1.name : self.aspect1, \n",
    "                        self.aspect2.name : self.aspect2, \n",
    "                        self.aspect3.name : self.aspect3}\n",
    "        self.careful = careful\n",
    "        self.clever = clever\n",
    "        self.flashy = flashy\n",
    "        self.forceful = forceful\n",
    "        self.quick = quick\n",
    "        self.sneaky = sneaky\n",
    "        self.approaches = {'Careful': self.careful,\n",
    "                           'Clever': self.clever,\n",
    "                           'Flashy': self.flashy,\n",
    "                           'Forceful': self.forceful,\n",
    "                           'Quick': self.quick,\n",
    "                           'Sneaky': self.sneaky}\n",
    "        if(len(stunts) <= 3):\n",
    "            self.refresh = 3\n",
    "        else:\n",
    "            self.refresh = 3-(len(stunts)-3)\n",
    "        self.stunts = stunts\n",
    "    def displayAspects(self):\n",
    "        aspectString = \"High Concept: {}\\nTrouble: {}\\n\".format(self.highConcept.name, self.trouble.name)\n",
    "        aspectString += \"Aspect: {}\\nAspect: {}\\nAspect: {}\\n\".format(self.aspect1.name, self.aspect2.name, self.aspect3.name)\n",
    "        return aspectString\n",
    "    def displayApproaches(self):\n",
    "        return '\\n'.join(['{}: {}'.format(x, self.approaches[x]) for x in self.approaches])\n",
    "    def displayStunts(self):\n",
    "        return '\\n'.join(self.stunts)\n",
    "    def displayInfo(self):\n",
    "        infoString = ''\n",
    "        infoString += 'Name: {}\\n'.format(self.name)\n",
    "        infoString += 'Refresh: {}\\n'.format(self.refresh)\n",
    "        return infoString\n",
    "    def __repr__(self):\n",
    "        return self.displayInfo() + self.displayAspects() + self.displayApproaches() + '\\nStunts:\\n' + self.displayStunts()\n",
    "        "
   ]
  },
  {
   "cell_type": "code",
   "execution_count": 10,
   "metadata": {
    "collapsed": true
   },
   "outputs": [],
   "source": [
    "harix = Character(name='Harix', \n",
    "                highConcept=Aspect(2, 'Gobbie Samurai in Search of Friendyfriends'),\n",
    "                trouble=Aspect(2, 'No Understanding of Uplanders'),\n",
    "                aspect1=Aspect(2, 'The Strength of Ten Goblins'),\n",
    "                aspect2=Aspect(2, 'Good Intentions, not Good Plans'),\n",
    "                aspect3=Aspect(2, 'Determined but Clumsy'),\n",
    "                careful=1,\n",
    "                clever=1,\n",
    "                flashy=2,\n",
    "                forceful=3,\n",
    "                quick=2,\n",
    "                sneaky=0,\n",
    "                stunts=['Noble Goblin War Cry', 'Slashyslashing Whirlycogs', 'Gobbiekin Tongueflappage'])"
   ]
  },
  {
   "cell_type": "code",
   "execution_count": 11,
   "metadata": {
    "collapsed": false
   },
   "outputs": [
    {
     "data": {
      "text/plain": [
       "Name: Harix\n",
       "Refresh: 3\n",
       "High Concept: Gobbie Samurai in Search of Friendyfriends\n",
       "Trouble: No Understanding of Uplanders\n",
       "Aspect: The Strength of Ten Goblins\n",
       "Aspect: Good Intentions, not Good Plans\n",
       "Aspect: Determined but Clumsy\n",
       "Careful: 1\n",
       "Clever: 1\n",
       "Flashy: 2\n",
       "Forceful: 3\n",
       "Quick: 2\n",
       "Sneaky: 0\n",
       "Stunts:\n",
       "Noble Goblin War Cry\n",
       "Slashyslashing Whirlycogs\n",
       "Gobbiekin Tongueflappage"
      ]
     },
     "execution_count": 11,
     "metadata": {},
     "output_type": "execute_result"
    }
   ],
   "source": [
    "harix"
   ]
  },
  {
   "cell_type": "code",
   "execution_count": 12,
   "metadata": {
    "collapsed": true
   },
   "outputs": [],
   "source": [
    "class Mook:\n",
    "    def __init__(self, stress=0, skills=[], inabilities=[]):\n",
    "        self.stress = list(range(stress))\n",
    "        self.skills = skills\n",
    "        self.inabilities = inabilities"
   ]
  },
  {
   "cell_type": "code",
   "execution_count": 13,
   "metadata": {
    "collapsed": false
   },
   "outputs": [
    {
     "data": {
      "text/plain": [
       "[]"
      ]
     },
     "execution_count": 13,
     "metadata": {},
     "output_type": "execute_result"
    }
   ],
   "source": [
    "list(range(0))"
   ]
  },
  {
   "cell_type": "code",
   "execution_count": 14,
   "metadata": {
    "collapsed": true
   },
   "outputs": [],
   "source": [
    "import random"
   ]
  },
  {
   "cell_type": "code",
   "execution_count": 15,
   "metadata": {
    "collapsed": false
   },
   "outputs": [
    {
     "data": {
      "text/plain": [
       "'110001'"
      ]
     },
     "execution_count": 15,
     "metadata": {},
     "output_type": "execute_result"
    }
   ],
   "source": [
    "'{0:b}'.format(random.randint(0,255))"
   ]
  },
  {
   "cell_type": "code",
   "execution_count": 16,
   "metadata": {
    "collapsed": false
   },
   "outputs": [
    {
     "data": {
      "text/plain": [
       "'00000000'"
      ]
     },
     "execution_count": 16,
     "metadata": {},
     "output_type": "execute_result"
    }
   ],
   "source": [
    "'{:08b}'.format(0)"
   ]
  },
  {
   "cell_type": "code",
   "execution_count": 30,
   "metadata": {
    "collapsed": true
   },
   "outputs": [],
   "source": [
    "from PIL import Image\n",
    "import uuid"
   ]
  },
  {
   "cell_type": "code",
   "execution_count": 33,
   "metadata": {
    "collapsed": false
   },
   "outputs": [
    {
     "data": {
      "text/plain": [
       "UUID('0c4e6392-f77d-4188-8bba-14935dcfe39f')"
      ]
     },
     "execution_count": 33,
     "metadata": {},
     "output_type": "execute_result"
    }
   ],
   "source": [
    "uuid.uuid4()"
   ]
  },
  {
   "cell_type": "code",
   "execution_count": 164,
   "metadata": {
    "collapsed": true
   },
   "outputs": [],
   "source": [
    "class Egg:\n",
    "    def __init__(self, r=0, g=0, b=0):\n",
    "        self.r = r\n",
    "        self.g = g\n",
    "        self.b = b\n",
    "        self.id = uuid.uuid4()\n",
    "        #display(self.Show())\n",
    "    def __repr__(self):\n",
    "        display(self.Show())\n",
    "        return \"ID:{}\\nr: {}\\ng: {}\\nb: {}\".format(self.id, self.r, self.g, self.b)\n",
    "    def Show(self):\n",
    "        return Image.new(mode='RGB', size=(100,100), color=(self.r, self.g, self.b))\n",
    "    def Breed(self, other):\n",
    "        if(type(other) != type(self)):\n",
    "            return None\n",
    "        else:\n",
    "            ownRed = '{:08b}'.format(self.r)\n",
    "            otherRed = '{:08b}'.format(other.r)\n",
    "            ownGreen = '{:08b}'.format(self.g)\n",
    "            otherGreen = '{:08b}'.format(other.g)\n",
    "            ownBlue = '{:08b}'.format(self.b)\n",
    "            otherBlue = '{:08b}'.format(other.b)\n",
    "            newRed = []\n",
    "            newGreen = []\n",
    "            newBlue = []\n",
    "            for red in range(len(ownRed)):\n",
    "                if(random.randint(0,1)):\n",
    "                    newRed.append(ownRed[red])\n",
    "                else:\n",
    "                    newRed.append(otherRed[red])\n",
    "            for green in range(len(ownGreen)):\n",
    "                if(random.randint(0,1)):\n",
    "                    newGreen.append(ownGreen[green])\n",
    "                else:\n",
    "                    newGreen.append(otherGreen[green])\n",
    "            for blue in range(len(ownBlue)):\n",
    "                if(random.randint(0,1)):\n",
    "                    newBlue.append(ownBlue[blue])\n",
    "                else:\n",
    "                    newBlue.append(otherBlue[blue])\n",
    "            red = int(''.join(newRed), 2)\n",
    "            green = int(''.join(newGreen), 2)\n",
    "            blue = int(''.join(newBlue), 2)\n",
    "            return Egg(red, green, blue)\n",
    "    def New():\n",
    "        r = random.randint(0,255)\n",
    "        g = random.randint(0,255)\n",
    "        b = random.randint(0,255)\n",
    "        return Egg(r, g, b)"
   ]
  },
  {
   "cell_type": "code",
   "execution_count": 165,
   "metadata": {
    "collapsed": false
   },
   "outputs": [
    {
     "data": {
      "image/png": "[encoded data removed]",
      "text/plain": [
       "<PIL.Image.Image image mode=RGB size=100x100 at 0x23FD7DB6320>"
      ]
     },
     "metadata": {},
     "output_type": "display_data"
    },
    {
     "data": {
      "text/plain": [
       "ID:570d3bb7-c037-4f9e-b6ff-0615c41fef6d\n",
       "r: 15\n",
       "g: 227\n",
       "b: 52"
      ]
     },
     "execution_count": 165,
     "metadata": {},
     "output_type": "execute_result"
    }
   ],
   "source": [
    "Egg.New()"
   ]
  },
  {
   "cell_type": "code",
   "execution_count": 166,
   "metadata": {
    "collapsed": false
   },
   "outputs": [
    {
     "data": {
      "image/png": "[encoded data removed]",
      "text/plain": [
       "<PIL.Image.Image image mode=RGB size=100x100 at 0x23FD7DB6400>"
      ]
     },
     "metadata": {},
     "output_type": "display_data"
    },
    {
     "data": {
      "text/plain": [
       "ID:537ddc52-a87b-4854-98e4-5a83a30925dd\n",
       "r: 140\n",
       "g: 121\n",
       "b: 192"
      ]
     },
     "execution_count": 166,
     "metadata": {},
     "output_type": "execute_result"
    }
   ],
   "source": [
    "Egg.New()"
   ]
  },
  {
   "cell_type": "code",
   "execution_count": 167,
   "metadata": {
    "collapsed": true
   },
   "outputs": [],
   "source": [
    "foo = Egg()"
   ]
  },
  {
   "cell_type": "code",
   "execution_count": 168,
   "metadata": {
    "collapsed": false
   },
   "outputs": [
    {
     "data": {
      "image/png": "[encoded data removed]",
      "text/plain": [
       "<PIL.Image.Image image mode=RGB size=100x100 at 0x23FD7DB65C0>"
      ]
     },
     "metadata": {},
     "output_type": "display_data"
    },
    {
     "data": {
      "text/plain": [
       "ID:baf9bdf9-1a2b-42e4-b047-c2afc50fa16e\n",
       "r: 0\n",
       "g: 0\n",
       "b: 0"
      ]
     },
     "execution_count": 168,
     "metadata": {},
     "output_type": "execute_result"
    }
   ],
   "source": [
    "foo"
   ]
  },
  {
   "cell_type": "code",
   "execution_count": 176,
   "metadata": {
    "collapsed": false,
    "scrolled": true
   },
   "outputs": [
    {
     "data": {
      "image/png": "[encoded data removed]",
      "text/plain": [
       "<PIL.Image.Image image mode=RGB size=100x100 at 0x23FD7DBB828>"
      ]
     },
     "metadata": {},
     "output_type": "display_data"
    },
    {
     "data": {
      "text/plain": [
       "ID:b76ad7f6-65f6-477e-a780-4d9a75531e22\n",
       "r: 86\n",
       "g: 199\n",
       "b: 83"
      ]
     },
     "execution_count": 176,
     "metadata": {},
     "output_type": "execute_result"
    }
   ],
   "source": [
    "Egg(0,0,0).Breed(Egg(255, 255, 255))"
   ]
  },
  {
   "cell_type": "code",
   "execution_count": 203,
   "metadata": {
    "collapsed": false
   },
   "outputs": [
    {
     "data": {
      "text/plain": [
       "255"
      ]
     },
     "execution_count": 203,
     "metadata": {},
     "output_type": "execute_result"
    }
   ],
   "source": [
    "int('{0:b}'.format(255), 2)"
   ]
  },
  {
   "cell_type": "code",
   "execution_count": 140,
   "metadata": {
    "collapsed": true
   },
   "outputs": [],
   "source": [
    "from IPython.display import display"
   ]
  },
  {
   "cell_type": "code",
   "execution_count": 141,
   "metadata": {
    "collapsed": false
   },
   "outputs": [
    {
     "data": {
      "image/png": "[encoded data removed]",
      "text/plain": [
       "<PIL.Image.Image image mode=RGB size=100x100 at 0x23FD7EEAA58>"
      ]
     },
     "metadata": {},
     "output_type": "display_data"
    }
   ],
   "source": [
    "display(Egg().Show())"
   ]
  },
  {
   "cell_type": "code",
   "execution_count": 90,
   "metadata": {
    "collapsed": false
   },
   "outputs": [
    {
     "data": {
      "image/png": "[encoded data removed]",
      "text/plain": [
       "<PIL.Image.Image image mode=RGB size=100x100 at 0x2A7C3DE8B38>"
      ]
     },
     "execution_count": 90,
     "metadata": {},
     "output_type": "execute_result"
    }
   ],
   "source": [
    "Egg().Show()"
   ]
  },
  {
   "cell_type": "code",
   "execution_count": 93,
   "metadata": {
    "collapsed": true
   },
   "outputs": [],
   "source": [
    "myList = []\n",
    "for i in range(10):\n",
    "    myList.append(Egg(random.randint(0,255), random.randint(0,255), random.randint(0,255)).Show())\n",
    "    "
   ]
  },
  {
   "cell_type": "code",
   "execution_count": 19,
   "metadata": {
    "collapsed": true
   },
   "outputs": [],
   "source": [
    "from PIL import Image"
   ]
  },
  {
   "cell_type": "code",
   "execution_count": 42,
   "metadata": {
    "collapsed": false
   },
   "outputs": [
    {
     "data": {
      "image/png": "[encoded data removed]",
      "text/plain": [
       "<PIL.Image.Image image mode=RGB size=100x100 at 0x2A7C3DACC50>"
      ]
     },
     "execution_count": 42,
     "metadata": {},
     "output_type": "execute_result"
    }
   ],
   "source": [
    "Image.new(mode='RGB', size=(100,100), color=(255,0,255))"
   ]
  }
 ],
 "metadata": {
  "kernelspec": {
   "display_name": "Python 3",
   "language": "python",
   "name": "python3"
  },
  "language_info": {
   "codemirror_mode": {
    "name": "ipython",
    "version": 3
   },
   "file_extension": ".py",
   "mimetype": "text/x-python",
   "name": "python",
   "nbconvert_exporter": "python",
   "pygments_lexer": "ipython3",
   "version": "3.6.0"
  }
 },
 "nbformat": 4,
 "nbformat_minor": 2
}
